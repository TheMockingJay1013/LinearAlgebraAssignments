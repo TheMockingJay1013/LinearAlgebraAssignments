{
 "cells": [
  {
   "cell_type": "markdown",
   "metadata": {},
   "source": [
    "# Linear Algebra For AI and ML \n",
    "\n",
    "## Assignment 1\n",
    "\n",
    "### Name : Navaneeth Shaji\n",
    "### Roll no : 21CS30032\n",
    "\n",
    "### Requirements : \n",
    "    Certain libraries must be installed in order to run the following program .\n",
    "    The required libraries can be install by running the command \"pip install -r requirements.txt\"  on the terminal"
   ]
  },
  {
   "cell_type": "code",
   "execution_count": 459,
   "metadata": {},
   "outputs": [],
   "source": [
    "import tensorflow as tf\n",
    "from tensorflow.keras.datasets import mnist\n",
    "import matplotlib.pyplot as plt\n",
    "import numpy as np\n",
    "import random\n",
    "from sklearn.preprocessing import StandardScaler\n",
    "from sklearn.metrics import confusion_matrix\n",
    "from tabulate import tabulate"
   ]
  },
  {
   "cell_type": "markdown",
   "metadata": {},
   "source": [
    "## Question 1\n"
   ]
  },
  {
   "cell_type": "code",
   "execution_count": 460,
   "metadata": {},
   "outputs": [],
   "source": [
    "\n",
    "# Load the MNIST dataset as one dataset\n",
    "(X_train, y_train), (X_test, y_test) = mnist.load_data()"
   ]
  },
  {
   "cell_type": "code",
   "execution_count": 461,
   "metadata": {},
   "outputs": [
    {
     "name": "stdout",
     "output_type": "stream",
     "text": [
      "(60000, 784) (10000, 784)\n"
     ]
    }
   ],
   "source": [
    "# vectorize the data\n",
    "X_train = X_train.reshape(X_train.shape[0], -1)\n",
    "X_test = X_test.reshape(X_test.shape[0], -1)\n",
    "\n",
    "print(X_train.shape, X_test.shape)\n",
    "\n",
    "# Normalize the data\n",
    "scaler = StandardScaler()\n",
    "X_train = scaler.fit_transform(X_train)\n",
    "X_test = scaler.transform(X_test)\n"
   ]
  },
  {
   "cell_type": "code",
   "execution_count": 462,
   "metadata": {},
   "outputs": [
    {
     "name": "stdout",
     "output_type": "stream",
     "text": [
      "(13007, 784) (2163, 784)\n",
      "(13007,) (2163,)\n"
     ]
    }
   ],
   "source": [
    "# select the rows in X_train and y _train  where the label is 1 or 7\n",
    "X_train_class1 = X_train[y_train == 1]\n",
    "y_train_class1 = y_train[y_train == 1]\n",
    "X_train_class7 = X_train[y_train == 7]\n",
    "y_train_class7 = y_train[y_train == 7]\n",
    "\n",
    "# combine the two classes\n",
    "X_train = np.concatenate((X_train_class1, X_train_class7))\n",
    "y_train = np.concatenate((y_train_class1, y_train_class7))\n",
    "\n",
    "# select the rows in X_test and y _test  where the label is 1 or 7\n",
    "X_test_class1 = X_test[y_test == 1]\n",
    "y_test_class1 = y_test[y_test == 1]\n",
    "X_test_class7 = X_test[y_test == 7]\n",
    "y_test_class7 = y_test[y_test == 7]\n",
    "\n",
    "# combine the two classes\n",
    "X_test = np.concatenate((X_test_class1, X_test_class7))\n",
    "y_test = np.concatenate((y_test_class1, y_test_class7))\n",
    "\n",
    "\n",
    "\n",
    "# set the label  7 to -1\n",
    "y_test = np.array(y_test).astype(np.int8)\n",
    "y_train = np.array(y_train).astype(np.int8)\n",
    "y_test[y_test == 7] = -1\n",
    "y_train[y_train == 7] = -1\n",
    "\n",
    "\n",
    "print(X_train.shape, X_test.shape)\n",
    "print(y_train.shape, y_test.shape)\n"
   ]
  },
  {
   "cell_type": "code",
   "execution_count": 463,
   "metadata": {},
   "outputs": [],
   "source": [
    "# Modify the cost function to include the regularization term theta\n",
    "I = np.identity(X_train.shape[1])\n",
    "theta = 0.01"
   ]
  },
  {
   "cell_type": "code",
   "execution_count": 464,
   "metadata": {},
   "outputs": [
    {
     "name": "stdout",
     "output_type": "stream",
     "text": [
      "(784,)\n"
     ]
    }
   ],
   "source": [
    "# calculate the alpha with regularization term\n",
    "inverse = np.linalg.inv(np.matmul(X_train.T, X_train) + theta*I)\n",
    "inverse = np.matmul(inverse, X_train.T)\n",
    "alpha = np.dot(beta, y_train)\n",
    "print(alpha.shape)\n",
    "\n",
    "\n"
   ]
  },
  {
   "cell_type": "code",
   "execution_count": 465,
   "metadata": {},
   "outputs": [
    {
     "name": "stdout",
     "output_type": "stream",
     "text": [
      "Accuracy:  0.9889042995839112\n",
      "Confusion Matrix: \n",
      "+---------+---------------+----------------+\n",
      "|         |   Predicted 1 |   Predicted -1 |\n",
      "|---------+---------------+----------------|\n",
      "| True 1  |          1007 |             21 |\n",
      "| True -1 |             3 |           1132 |\n",
      "+---------+---------------+----------------+\n"
     ]
    }
   ],
   "source": [
    "# predict the labels for X_test\n",
    "y_pred = np.matmul(X_test, alpha)\n",
    "y_pred[y_pred >= 0] = 1\n",
    "y_pred[y_pred < 0] = -1\n",
    "\n",
    "# calculate the accuracy\n",
    "correct = 0\n",
    "for i in range(len(y_pred)):\n",
    "    if y_pred[i] == y_test[i]:\n",
    "        correct += 1\n",
    "print(\"Accuracy: \", correct/len(y_pred))\n",
    "\n",
    "# making the confusion matrix\n",
    "cm = confusion_matrix(y_test, y_pred)\n",
    "cm = pd.DataFrame(cm, index = ['True 1', 'True -1'], columns = ['Predicted 1', 'Predicted -1'])\n",
    "\n",
    "print(\"Confusion Matrix: \")\n",
    "print(tabulate(cm, headers='keys', tablefmt='psql'))\n"
   ]
  },
  {
   "cell_type": "markdown",
   "metadata": {},
   "source": [
    "## Question 2"
   ]
  },
  {
   "cell_type": "code",
   "execution_count": 466,
   "metadata": {},
   "outputs": [],
   "source": [
    "# Load the MNIST dataset as one dataset\n",
    "(X_train, y_train), (X_test, y_test) = mnist.load_data()"
   ]
  },
  {
   "cell_type": "code",
   "execution_count": 467,
   "metadata": {},
   "outputs": [
    {
     "name": "stdout",
     "output_type": "stream",
     "text": [
      "(60000, 784) (10000, 784)\n"
     ]
    }
   ],
   "source": [
    "# vectorize the data\n",
    "X_train = X_train.reshape(X_train.shape[0], -1)\n",
    "X_test = X_test.reshape(X_test.shape[0], -1)\n",
    "\n",
    "# normalise the data\n",
    "scaler = StandardScaler()\n",
    "X_train = scaler.fit_transform(X_train)\n",
    "X_test = scaler.transform(X_test)\n",
    "\n",
    "print(X_train.shape, X_test.shape)"
   ]
  },
  {
   "cell_type": "code",
   "execution_count": 468,
   "metadata": {},
   "outputs": [],
   "source": [
    "# making dataset for each class\n",
    "#class 0\n",
    "X_train_class0 = X_train[y_train == 0]\n",
    "X_train_classNOT0 = X_train[y_train != 0]\n",
    "y_train_class0 = y_train[y_train == 0]\n",
    "y_train_classNOT0 = y_train[y_train != 0]\n",
    "\n",
    "random_indices = np.random.choice(X_train_classNOT0.shape[0], X_train_class0.shape[0], replace=False)\n",
    "X_train_classNOT0 = X_train_classNOT0[random_indices]\n",
    "y_train_classNOT0 = y_train_classNOT0[random_indices]\n",
    "\n",
    "y_train_class0 = np.array(y_train_class0).astype(np.int8)\n",
    "y_train_classNOT0 = np.array(y_train_classNOT0).astype(np.int8)\n",
    "y_train_class0[y_train_class0 == 0] = 1\n",
    "y_train_classNOT0[y_train_classNOT0 != 0] = -1\n",
    "\n",
    "\n",
    "#combine\n",
    "X_train_class0 = np.concatenate((X_train_class0, X_train_classNOT0))\n",
    "y_train_class0 = np.concatenate((y_train_class0, y_train_classNOT0))\n",
    "\n",
    "\n",
    "# Class 1\n",
    "X_train_class1 = X_train[y_train == 1]\n",
    "X_train_classNOT1 = X_train[y_train != 1]\n",
    "y_train_class1 = y_train[y_train == 1]\n",
    "y_train_classNOT1 = y_train[y_train != 1]\n",
    "\n",
    "random_indices = np.random.choice(X_train_classNOT1.shape[0], X_train_class1.shape[0], replace=False)\n",
    "X_train_classNOT1 = X_train_classNOT1[random_indices]\n",
    "y_train_classNOT1 = y_train_classNOT1[random_indices]\n",
    "\n",
    "y_train_class1 = np.array(y_train_class1).astype(np.int8)\n",
    "y_train_classNOT1 = np.array(y_train_classNOT1).astype(np.int8)\n",
    "y_train_class1[y_train_class1 == 1] = 1\n",
    "y_train_classNOT1[y_train_classNOT1 != 1] = -1\n",
    "\n",
    "#combine\n",
    "X_train_class1 = np.concatenate((X_train_class1, X_train_classNOT1))\n",
    "y_train_class1 = np.concatenate((y_train_class1, y_train_classNOT1))\n",
    "\n",
    "\n",
    "#class 2\n",
    "X_train_class2 = X_train[y_train == 2]\n",
    "X_train_classNOT2 = X_train[y_train != 2]\n",
    "y_train_class2 = y_train[y_train == 2]\n",
    "y_train_classNOT2 = y_train[y_train != 2]\n",
    "\n",
    "random_indices = np.random.choice(X_train_classNOT2.shape[0], X_train_class2.shape[0], replace=False)\n",
    "X_train_classNOT2 = X_train_classNOT2[random_indices]\n",
    "y_train_classNOT2 = y_train_classNOT2[random_indices]\n",
    "\n",
    "y_train_class2 = np.array(y_train_class2).astype(np.int8)\n",
    "y_train_classNOT2 = np.array(y_train_classNOT2).astype(np.int8)\n",
    "y_train_class2[y_train_class2 == 2] = 1\n",
    "y_train_classNOT2[y_train_classNOT2 != 2] = -1\n",
    "\n",
    "#combine\n",
    "X_train_class2 = np.concatenate((X_train_class2, X_train_classNOT2))\n",
    "y_train_class2 = np.concatenate((y_train_class2, y_train_classNOT2))\n",
    "\n",
    "\n",
    "\n",
    "\n",
    "\n",
    "#class 3\n",
    "X_train_class3 = X_train[y_train == 3]\n",
    "X_train_classNOT3 = X_train[y_train != 3]\n",
    "y_train_class3 = y_train[y_train == 3]\n",
    "y_train_classNOT3 = y_train[y_train != 3]\n",
    "\n",
    "random_indices = np.random.choice(X_train_classNOT3.shape[0], X_train_class3.shape[0], replace=False)\n",
    "X_train_classNOT3 = X_train_classNOT3[random_indices]\n",
    "y_train_classNOT3 = y_train_classNOT3[random_indices]\n",
    "\n",
    "y_train_class3 = np.array(y_train_class3).astype(np.int8)\n",
    "y_train_classNOT3 = np.array(y_train_classNOT3).astype(np.int8)\n",
    "y_train_class3[y_train_class3 == 3] = 1\n",
    "y_train_classNOT3[y_train_classNOT3 != 3] = -1\n",
    "\n",
    "#combine\n",
    "X_train_class3 = np.concatenate((X_train_class3, X_train_classNOT3))\n",
    "y_train_class3 = np.concatenate((y_train_class3, y_train_classNOT3))\n",
    "\n",
    "\n",
    "\n",
    "\n",
    "\n",
    "#class 4\n",
    "X_train_class4 = X_train[y_train == 4]\n",
    "X_train_classNOT4 = X_train[y_train != 4]\n",
    "y_train_class4 = y_train[y_train == 4]\n",
    "y_train_classNOT4 = y_train[y_train != 4]\n",
    "\n",
    "random_indices = np.random.choice(X_train_classNOT4.shape[0], X_train_class4.shape[0], replace=False)\n",
    "X_train_classNOT4 = X_train_classNOT4[random_indices]\n",
    "y_train_classNOT4 = y_train_classNOT4[random_indices]\n",
    "\n",
    "y_train_class4 = np.array(y_train_class4).astype(np.int8)\n",
    "y_train_classNOT4 = np.array(y_train_classNOT4).astype(np.int8)\n",
    "y_train_class4[y_train_class4 == 4] = 1\n",
    "y_train_classNOT4[y_train_classNOT4 != 4] = -1\n",
    "\n",
    "#combine\n",
    "X_train_class4 = np.concatenate((X_train_class4, X_train_classNOT4))\n",
    "y_train_class4 = np.concatenate((y_train_class4, y_train_classNOT4))\n",
    "\n",
    "\n",
    "\n",
    "\n",
    "\n",
    "#class 5\n",
    "X_train_class5 = X_train[y_train == 5]\n",
    "X_train_classNOT5 = X_train[y_train != 5]\n",
    "y_train_class5 = y_train[y_train == 5]\n",
    "y_train_classNOT5 = y_train[y_train != 5]\n",
    "\n",
    "random_indices = np.random.choice(X_train_classNOT5.shape[0], X_train_class5.shape[0], replace=False)\n",
    "X_train_classNOT5 = X_train_classNOT5[random_indices]\n",
    "y_train_classNOT5 = y_train_classNOT5[random_indices]\n",
    "\n",
    "y_train_class5 = np.array(y_train_class5).astype(np.int8)\n",
    "y_train_classNOT5 = np.array(y_train_classNOT5).astype(np.int8)\n",
    "y_train_class5[y_train_class5 == 5] = 1\n",
    "y_train_classNOT5[y_train_classNOT5 != 5] = -1\n",
    "\n",
    "#combine\n",
    "X_train_class5 = np.concatenate((X_train_class5, X_train_classNOT5))\n",
    "y_train_class5 = np.concatenate((y_train_class5, y_train_classNOT5))\n",
    "\n",
    "\n",
    "\n",
    "\n",
    "\n",
    "#class 6\n",
    "X_train_class6 = X_train[y_train == 6]\n",
    "X_train_classNOT6 = X_train[y_train != 6]\n",
    "y_train_class6 = y_train[y_train == 6]\n",
    "y_train_classNOT6 = y_train[y_train != 6]\n",
    "\n",
    "random_indices = np.random.choice(X_train_classNOT6.shape[0], X_train_class6.shape[0], replace=False)\n",
    "X_train_classNOT6 = X_train_classNOT6[random_indices]\n",
    "y_train_classNOT6 = y_train_classNOT6[random_indices]\n",
    "\n",
    "y_train_class6 = np.array(y_train_class6).astype(np.int8)\n",
    "y_train_classNOT6 = np.array(y_train_classNOT6).astype(np.int8)\n",
    "y_train_class6[y_train_class6 == 6] = 1\n",
    "y_train_classNOT6[y_train_classNOT6 != 6] = -1\n",
    "\n",
    "#combine\n",
    "X_train_class6 = np.concatenate((X_train_class6, X_train_classNOT6))\n",
    "y_train_class6 = np.concatenate((y_train_class6, y_train_classNOT6))\n",
    "\n",
    "\n",
    "\n",
    "\n",
    "\n",
    "#class 7\n",
    "X_train_class7 = X_train[y_train == 7]\n",
    "X_train_classNOT7 = X_train[y_train != 7]\n",
    "y_train_class7 = y_train[y_train == 7]\n",
    "y_train_classNOT7 = y_train[y_train != 7]\n",
    "\n",
    "random_indices = np.random.choice(X_train_classNOT7.shape[0], X_train_class7.shape[0], replace=False)\n",
    "X_train_classNOT7 = X_train_classNOT7[random_indices]\n",
    "y_train_classNOT7 = y_train_classNOT7[random_indices]\n",
    "\n",
    "y_train_class7 = np.array(y_train_class7).astype(np.int8)\n",
    "y_train_classNOT7 = np.array(y_train_classNOT7).astype(np.int8)\n",
    "y_train_class7[y_train_class7 == 7] = 1\n",
    "y_train_classNOT7[y_train_classNOT7 != 7] = -1\n",
    "\n",
    "\n",
    "#combine\n",
    "X_train_class7 = np.concatenate((X_train_class7, X_train_classNOT7))\n",
    "y_train_class7 = np.concatenate((y_train_class7, y_train_classNOT7))\n",
    "\n",
    "\n",
    "#class 8\n",
    "X_train_class8 = X_train[y_train == 8]\n",
    "X_train_classNOT8 = X_train[y_train != 8]\n",
    "y_train_class8 = y_train[y_train == 8]\n",
    "y_train_classNOT8 = y_train[y_train != 8]\n",
    "\n",
    "random_indices = np.random.choice(X_train_classNOT8.shape[0], X_train_class8.shape[0], replace=False)\n",
    "X_train_classNOT8 = X_train_classNOT8[random_indices]\n",
    "y_train_classNOT8 = y_train_classNOT8[random_indices]\n",
    "\n",
    "y_train_class8 = np.array(y_train_class8).astype(np.int8)\n",
    "y_train_classNOT8 = np.array(y_train_classNOT8).astype(np.int8)\n",
    "y_train_class8[y_train_class8 == 8] = 1\n",
    "y_train_classNOT8[y_train_classNOT8 != 8] = -1\n",
    "\n",
    "#combine\n",
    "X_train_class8 = np.concatenate((X_train_class8, X_train_classNOT8))\n",
    "y_train_class8 = np.concatenate((y_train_class8, y_train_classNOT8))\n",
    "\n",
    "\n",
    "\n",
    "#class 9\n",
    "X_train_class9 = X_train[y_train == 9]\n",
    "X_train_classNOT9 = X_train[y_train != 9]\n",
    "y_train_class9 = y_train[y_train == 9]\n",
    "y_train_classNOT9 = y_train[y_train != 9]\n",
    "\n",
    "random_indices = np.random.choice(X_train_classNOT9.shape[0], X_train_class9.shape[0], replace=False)\n",
    "X_train_classNOT9 = X_train_classNOT9[random_indices]\n",
    "y_train_classNOT9 = y_train_classNOT9[random_indices]\n",
    "\n",
    "y_train_class9 = np.array(y_train_class9).astype(np.int8)\n",
    "y_train_classNOT9 = np.array(y_train_classNOT9).astype(np.int8)\n",
    "y_train_class9[y_train_class9 == 9] = 1\n",
    "y_train_classNOT9[y_train_classNOT9 != 9] = -1\n",
    "\n",
    "#combine\n",
    "X_train_class9 = np.concatenate((X_train_class9, X_train_classNOT9))\n",
    "y_train_class9 = np.concatenate((y_train_class9, y_train_classNOT9))\n"
   ]
  },
  {
   "cell_type": "code",
   "execution_count": 469,
   "metadata": {},
   "outputs": [],
   "source": [
    "# setting the regularization term\n",
    "theta = 0.01\n",
    "I = np.identity(X_train.shape[1])"
   ]
  },
  {
   "cell_type": "code",
   "execution_count": 470,
   "metadata": {},
   "outputs": [],
   "source": [
    "# applying least squares on each class\n",
    "# class 0\n",
    "inverse = np.linalg.inv(np.matmul(X_train_class0.T, X_train_class0)+theta*I)\n",
    "alpha0 = np.matmul(inverse, X_train_class0.T)\n",
    "alpha0 = np.matmul(alpha0, y_train_class0)\n",
    "\n",
    "# class 1\n",
    "inverse = np.linalg.inv(np.matmul(X_train_class1.T, X_train_class1)+theta*I)\n",
    "alpha1 = np.matmul(inverse, X_train_class1.T)\n",
    "alpha1 = np.matmul(alpha1, y_train_class1)\n",
    "\n",
    "# class 2\n",
    "inverse = np.linalg.inv(np.matmul(X_train_class2.T, X_train_class2)+theta*I)\n",
    "alpha2 = np.matmul(inverse, X_train_class2.T)\n",
    "alpha2 = np.matmul(alpha2, y_train_class2)\n",
    "\n",
    "# class 3\n",
    "inverse = np.linalg.inv(np.matmul(X_train_class3.T, X_train_class3)+theta*I)\n",
    "alpha3 = np.matmul(inverse, X_train_class3.T)\n",
    "alpha3 = np.matmul(alpha3, y_train_class3)\n",
    "\n",
    "# class 4\n",
    "inverse = np.linalg.inv(np.matmul(X_train_class4.T, X_train_class4)+theta*I)\n",
    "alpha4 = np.matmul(inverse, X_train_class4.T)\n",
    "alpha4 = np.matmul(alpha4, y_train_class4)\n",
    "\n",
    "# class 5\n",
    "inverse = np.linalg.inv(np.matmul(X_train_class5.T, X_train_class5)+theta*I)\n",
    "alpha5 = np.matmul(inverse, X_train_class5.T)\n",
    "alpha5 = np.matmul(alpha5, y_train_class5)\n",
    "\n",
    "# class 6\n",
    "inverse = np.linalg.inv(np.matmul(X_train_class6.T, X_train_class6) + theta*I)\n",
    "alpha6 = np.matmul(inverse, X_train_class6.T)\n",
    "alpha6 = np.matmul(alpha6, y_train_class6)\n",
    "\n",
    "# class 7\n",
    "inverse = np.linalg.inv(np.matmul(X_train_class7.T, X_train_class7) + theta*I)\n",
    "alpha7 = np.matmul(inverse, X_train_class7.T)\n",
    "alpha7 = np.matmul(alpha7, y_train_class7)\n",
    "\n",
    "# class 8\n",
    "inverse = np.linalg.inv(np.matmul(X_train_class8.T, X_train_class8) + theta*I)\n",
    "alpha8 = np.matmul(inverse, X_train_class8.T)\n",
    "alpha8 = np.matmul(alpha8, y_train_class8)\n",
    "\n",
    "# class 9\n",
    "inverse = np.linalg.inv(np.matmul(X_train_class9.T, X_train_class9) + theta*I)\n",
    "alpha9 = np.matmul(inverse, X_train_class9.T)\n",
    "alpha9 = np.matmul(alpha9, y_train_class9)\n"
   ]
  },
  {
   "cell_type": "code",
   "execution_count": 471,
   "metadata": {},
   "outputs": [
    {
     "name": "stdout",
     "output_type": "stream",
     "text": [
      "Accuracy:  0.8758\n"
     ]
    }
   ],
   "source": [
    "# For each sample in the test set, get a prediction from all 10 linear models and assign it the class for which it receives the highest score.\n",
    "\n",
    "y_pred = np.zeros((X_test.shape[0], 10))\n",
    "y_pred[:,0] = np.matmul(X_test, alpha0)\n",
    "y_pred[:,1] = np.matmul(X_test, alpha1)\n",
    "y_pred[:,2] = np.matmul(X_test, alpha2)\n",
    "y_pred[:,3] = np.matmul(X_test, alpha3)\n",
    "y_pred[:,4] = np.matmul(X_test, alpha4)\n",
    "y_pred[:,5] = np.matmul(X_test, alpha5)\n",
    "y_pred[:,6] = np.matmul(X_test, alpha6)\n",
    "y_pred[:,7] = np.matmul(X_test, alpha7)\n",
    "y_pred[:,8] = np.matmul(X_test, alpha8)\n",
    "y_pred[:,9] = np.matmul(X_test, alpha9)\n",
    "\n",
    "y_pred_final = np.argmax(y_pred, axis=1)\n",
    "\n",
    "# calculate the accuracy\n",
    "correct = 0\n",
    "for i in range(len(y_pred)):\n",
    "    if y_pred_final[i] == y_test[i]:\n",
    "        correct += 1\n",
    "print(\"Accuracy: \", correct/len(y_pred_final))\n"
   ]
  },
  {
   "cell_type": "code",
   "execution_count": 472,
   "metadata": {},
   "outputs": [
    {
     "name": "stdout",
     "output_type": "stream",
     "text": [
      "Confusion Matrix: \n",
      "+----+-----+------+-----+-----+-----+-----+-----+-----+-----+-----+\n",
      "|    |   0 |    1 |   2 |   3 |   4 |   5 |   6 |   7 |   8 |   9 |\n",
      "|----+-----+------+-----+-----+-----+-----+-----+-----+-----+-----|\n",
      "|  0 | 925 |    1 |   6 |   1 |   4 |  20 |  14 |   3 |   5 |   1 |\n",
      "|  1 |   0 | 1097 |   2 |   4 |   1 |   4 |   3 |   1 |  23 |   0 |\n",
      "|  2 |  13 |   32 | 829 |  25 |  22 |   6 |  25 |  13 |  58 |   9 |\n",
      "|  3 |  10 |    3 |  21 | 865 |   7 |  47 |   9 |  12 |  22 |  14 |\n",
      "|  4 |   1 |    9 |   5 |   3 | 897 |   0 |  12 |   1 |   7 |  47 |\n",
      "|  5 |  13 |    9 |   2 |  39 |  10 | 743 |  22 |  11 |  29 |  14 |\n",
      "|  6 |  10 |    9 |   8 |   3 |  14 |  43 | 844 |   5 |  17 |   5 |\n",
      "|  7 |   3 |   26 |  18 |   9 |  19 |   7 |   4 | 857 |   5 |  80 |\n",
      "|  8 |   6 |   24 |   8 |  24 |  12 |  35 |  16 |   9 | 817 |  23 |\n",
      "|  9 |  12 |   10 |   1 |  13 |  43 |   8 |   7 |  21 |  10 | 884 |\n",
      "+----+-----+------+-----+-----+-----+-----+-----+-----+-----+-----+\n"
     ]
    }
   ],
   "source": [
    "# make the confusion matrix\n",
    "confusion_matrix = confusion_matrix(y_test, y_pred_final)\n",
    "\n",
    "# make a dataframe for confusion matrix with margin for row and column headings\n",
    "import pandas as pd\n",
    "confusion_matrix = pd.DataFrame(confusion_matrix, index = [i for i in range(10)], columns = [i for i in range(10)])\n",
    "\n",
    "\n",
    "\n",
    "print(\"Confusion Matrix: \")\n",
    "print(tabulate(confusion_matrix, headers = 'keys', tablefmt = 'psql'))"
   ]
  },
  {
   "cell_type": "markdown",
   "metadata": {},
   "source": [
    "## Question 3\n"
   ]
  },
  {
   "cell_type": "code",
   "execution_count": 473,
   "metadata": {},
   "outputs": [],
   "source": [
    "p = []\n",
    "q = []\n",
    "\n",
    "for i in range(100) :\n",
    "    # populate p and q with random floating values between 10 and -10\n",
    "    p.append(random.uniform(-10, 10))\n",
    "    q.append(random.uniform(-10, 10))\n",
    "    \n",
    "# generating target variable b\n",
    "b = [1 if(p[i]*q[1]>1) else -1 for i in range(100)]\n",
    "\n",
    "p=np.array(p)\n",
    "q=np.array(q)\n",
    "b=np.array(b)"
   ]
  },
  {
   "cell_type": "code",
   "execution_count": 474,
   "metadata": {},
   "outputs": [
    {
     "name": "stdout",
     "output_type": "stream",
     "text": [
      "(100, 6)\n"
     ]
    }
   ],
   "source": [
    "# generating A\n",
    "A  = [[1,p[i],q[i],p[i]*p[i],q[i]*q[i],p[i]*q[i]] for i in range(100)]\n",
    "A = np.array(A)\n",
    "print(A.shape)"
   ]
  },
  {
   "cell_type": "code",
   "execution_count": 475,
   "metadata": {},
   "outputs": [
    {
     "name": "stdout",
     "output_type": "stream",
     "text": [
      "The coefficient vector x is :\n",
      "[-0.12119354 -0.14745039 -0.00975524  0.00243958  0.00157182  0.00154771]\n"
     ]
    }
   ],
   "source": [
    "# finding the coefficient vector x\n",
    "\n",
    "x = np.matmul(np.linalg.inv(np.matmul(A.T, A)), A.T)\n",
    "x = np.matmul(x, b)\n",
    "print(\"The coefficient vector x is :\")\n",
    "print(x)"
   ]
  },
  {
   "cell_type": "code",
   "execution_count": 476,
   "metadata": {},
   "outputs": [
    {
     "name": "stdout",
     "output_type": "stream",
     "text": [
      "The predicted target variable b is :\n",
      "[-1, 1, 1, -1, -1, 1, -1, 1, -1, -1, -1, 1, 1, -1, 1, -1, 1, -1, 1, -1, 1, -1, -1, 1, 1, -1, -1, -1, -1, -1, 1, -1, -1, -1, 1, 1, -1, -1, 1, -1, 1, -1, -1, 1, -1, -1, 1, 1, 1, 1, -1, -1, 1, 1, -1, 1, 1, -1, -1, 1, 1, 1, 1, -1, 1, -1, -1, 1, -1, 1, -1, 1, 1, -1, 1, -1, 1, 1, 1, -1, -1, 1, -1, -1, 1, -1, -1, 1, 1, 1, -1, -1, -1, -1, 1, -1, -1, -1, 1, -1]\n",
      "The accuracy on the training set is  : 0.99\n"
     ]
    }
   ],
   "source": [
    "# predicting the target variable b\n",
    "b_pred = np.matmul(A, x)\n",
    "b_pred = [1 if(b_pred[i]>0) else -1 for i in range(100)]\n",
    "print(\"The predicted target variable b is :\")\n",
    "print(b_pred)\n",
    "\n",
    "# calculating the accuracy\n",
    "acc = 0\n",
    "for i in range(100) :\n",
    "    if(b[i]==b_pred[i]) :\n",
    "        acc+=1\n",
    "print(\"The accuracy on the training set is  : \" + str(acc/100))"
   ]
  },
  {
   "cell_type": "markdown",
   "metadata": {},
   "source": [
    "## Question 4"
   ]
  },
  {
   "cell_type": "code",
   "execution_count": 477,
   "metadata": {},
   "outputs": [],
   "source": [
    "p = []\n",
    "q = []\n",
    "\n",
    "for i in range(100) :\n",
    "    # populate p \n",
    "    p.append(random.uniform(-1, 1))\n",
    "    q.append(random.uniform(-1, 1))\n",
    "    \n",
    "# generating target variable b\n",
    "b = [p[i]*p[i] + q[i]*q[i] + p[i]*q[i] for i in range(100)]\n",
    "\n",
    "p=np.array(p)\n",
    "q=np.array(q)\n",
    "b=np.array(b)"
   ]
  },
  {
   "cell_type": "code",
   "execution_count": 478,
   "metadata": {},
   "outputs": [
    {
     "name": "stdout",
     "output_type": "stream",
     "text": [
      "(100, 6)\n"
     ]
    }
   ],
   "source": [
    "# generating A\n",
    "A  = [[1,p[i],q[i],p[i]*p[i],q[i]*q[i],p[i]*q[i]] for i in range(100)]\n",
    "A = np.array(A)\n",
    "print(A.shape)"
   ]
  },
  {
   "cell_type": "code",
   "execution_count": 479,
   "metadata": {},
   "outputs": [
    {
     "name": "stdout",
     "output_type": "stream",
     "text": [
      "The coefficient vector x is :\n",
      "[ 1.33226763e-15 -1.17961196e-16 -2.22044605e-16  1.00000000e+00\n",
      "  1.00000000e+00  1.00000000e+00]\n"
     ]
    }
   ],
   "source": [
    "# finding the coefficient vector x\n",
    "\n",
    "x = np.matmul(np.linalg.inv(np.matmul(A.T, A)), A.T)\n",
    "x = np.matmul(x, b)\n",
    "print(\"The coefficient vector x is :\")\n",
    "print(x)"
   ]
  },
  {
   "cell_type": "code",
   "execution_count": 480,
   "metadata": {},
   "outputs": [
    {
     "name": "stdout",
     "output_type": "stream",
     "text": [
      "The mean squared error is : 8.747187791413326e-31\n"
     ]
    }
   ],
   "source": [
    "# find the mean squared error\n",
    "b_pred = np.matmul(A, x)\n",
    "mse = 0\n",
    "for i in range(100) :\n",
    "    mse += (b[i]-b_pred[i])**2\n",
    "mse/=100\n",
    "print(\"The mean squared error is : \" + str(mse))"
   ]
  },
  {
   "cell_type": "markdown",
   "metadata": {},
   "source": [
    "## Question 5\n"
   ]
  },
  {
   "cell_type": "code",
   "execution_count": 481,
   "metadata": {},
   "outputs": [],
   "source": [
    "p = []\n",
    "\n",
    "for i in range(100) :\n",
    "    # populate p \n",
    "    p.append(random.uniform(0, 1))\n",
    "    \n",
    "# generating target variable b\n",
    "b = [7*p[i]-3*p[i]*p[i] for i in range(100)]\n",
    "\n",
    "p=np.array(p)\n",
    "b=np.array(b)"
   ]
  },
  {
   "cell_type": "code",
   "execution_count": 482,
   "metadata": {},
   "outputs": [],
   "source": [
    "def f(x,j,n) :\n",
    "    return ((x>=(j-1)/n) & (x<(2*j-1)/n))*(2*n*(x-(j-1)/n)) + ((x>=(2*j-1)/n) & (x<j/n))*(2*n*((j/n)-x))"
   ]
  },
  {
   "cell_type": "code",
   "execution_count": 483,
   "metadata": {},
   "outputs": [
    {
     "name": "stdout",
     "output_type": "stream",
     "text": [
      "(100, 10)\n"
     ]
    }
   ],
   "source": [
    "# Q5(a)\n",
    "# generating A for N=10\n",
    "\n",
    "A = [[f(p[i],j,10) for j in range(1,11)] for i in range(100)]\n",
    "A = np.array(A)\n",
    "print(A.shape)"
   ]
  },
  {
   "cell_type": "code",
   "execution_count": 484,
   "metadata": {},
   "outputs": [
    {
     "name": "stdout",
     "output_type": "stream",
     "text": [
      "x is :\n",
      "[ 0.33892922  0.38520577  0.53727733  0.0722064   0.04758032  1.41965992\n",
      " -1.41338577  0.23892576 -0.07230873  0.06768375]\n",
      "The mean squared error is : 0.20097502027863395\n"
     ]
    }
   ],
   "source": [
    "inverse = np.linalg.inv(np.matmul(A.T, A))\n",
    "x = np.matmul(inverse, A.T)\n",
    "x = np.matmul(x, b)\n",
    "print(\"x is :\")\n",
    "print(x)\n",
    "\n",
    "# obtaining the mean squared error\n",
    "b_pred = np.matmul(A, x)\n",
    "mse = 0\n",
    "for i in range(100) :\n",
    "    mse += (b[i]-b_pred[i])**2\n",
    "\n",
    "mse/=100\n",
    "print(\"The mean squared error is : \" + str(mse))"
   ]
  },
  {
   "cell_type": "code",
   "execution_count": 485,
   "metadata": {},
   "outputs": [
    {
     "name": "stdout",
     "output_type": "stream",
     "text": [
      "(100, 50)\n"
     ]
    }
   ],
   "source": [
    "# generating A for N=50 \n",
    "A = [[f(p[i],j,50) for j in range(1,51)] for i in range(100)]\n",
    "A = np.array(A)\n",
    "print(A.shape)"
   ]
  },
  {
   "cell_type": "code",
   "execution_count": 486,
   "metadata": {},
   "outputs": [
    {
     "name": "stdout",
     "output_type": "stream",
     "text": [
      "x is :\n",
      "[ 6.94774119e-02  9.20938487e-02  8.47871671e-02  5.18460359e-02\n",
      "  7.19518565e-02  2.11372761e-02  1.27080096e-01  3.70573583e-03\n",
      "  1.05753853e-03 -4.77843651e-04 -5.66181572e-03 -2.37515368e-03\n",
      " -9.24605530e-02  6.13473382e-01  2.90451565e-03 -4.69083664e-01\n",
      " -3.80053478e-03  2.08480228e-02 -4.00392681e-03 -2.58374398e-02\n",
      "  5.59918378e-04 -7.38900194e-02  7.33141970e-02 -2.41670135e-03\n",
      " -1.10694815e+00  8.75118842e-01 -5.27049341e+02  1.06356042e+03\n",
      " -5.35757891e+02  1.58338731e-04 -7.50152842e-04 -8.03602204e+00\n",
      "  7.56048225e+00 -8.82870557e-04 -1.78782517e-03 -1.22730542e-03\n",
      " -6.68247639e-04 -1.74813690e-03 -1.91912301e-01  1.80380710e-01\n",
      " -1.06430196e-03 -3.91034920e-04 -3.07316550e-03 -3.74129726e+00\n",
      "  7.64987439e+00 -3.90128189e+00 -1.11634085e-03 -1.65133634e-03\n",
      "  8.93851016e-04 -6.38992523e+01]\n",
      "The mean squared error is : 0.10801337388436583\n"
     ]
    }
   ],
   "source": [
    "inverse = np.linalg.inv(np.matmul(A.T, A))\n",
    "x = np.matmul(inverse, A.T)\n",
    "x = np.matmul(x, b)\n",
    "print(\"x is :\")\n",
    "print(x)\n",
    "\n",
    "# obtaining the mean squared error\n",
    "b_pred = np.matmul(A, x)\n",
    "mse = 0\n",
    "for i in range(100) :\n",
    "    mse += (b[i]-b_pred[i])**2\n",
    "\n",
    "mse/=100\n",
    "print(\"The mean squared error is : \" + str(mse))"
   ]
  },
  {
   "cell_type": "code",
   "execution_count": 487,
   "metadata": {},
   "outputs": [
    {
     "name": "stdout",
     "output_type": "stream",
     "text": [
      "(100, 150)\n"
     ]
    }
   ],
   "source": [
    "# Q5(b)\n",
    "\n",
    "# generating A for N=150 \n",
    "A = [[f(p[i],j,150) for j in range(1,151)] for i in range(100)]\n",
    "A = np.array(A)\n",
    "print(A.shape)"
   ]
  },
  {
   "cell_type": "code",
   "execution_count": 488,
   "metadata": {},
   "outputs": [
    {
     "name": "stdout",
     "output_type": "stream",
     "text": [
      "x is :\n",
      "[ 0.00000000e+00  2.17351126e-02  2.13566615e-02  2.63590982e-02\n",
      "  1.80277334e-02  1.28924181e-02  2.22771916e-02  9.78130710e-03\n",
      "  1.56822363e-02  7.63165234e-03  1.11871300e-02  6.62408850e-03\n",
      "  1.41423096e-02  7.51831040e-03  7.42106432e-03  6.64402764e-03\n",
      "  4.88363200e-03  1.29736913e-03  8.64896533e-03  6.90257574e-03\n",
      "  6.77800929e-03  3.22462787e-03  4.63122012e-03  3.28658888e-03\n",
      "  4.21795291e-03  3.72094790e-03  4.92681676e-03  1.45709146e-03\n",
      "  4.61985726e-03  4.09824863e-03  8.72378973e-05  3.34629977e-03\n",
      "  1.31595107e-03  5.54247540e-03  7.01592061e-05  7.82215891e-03\n",
      "  2.42648824e-03 -2.93435919e-03  1.48558020e-03  1.16165191e-02\n",
      "  6.28034175e-03  9.44164439e-04 -4.39201288e-03  3.42336728e-03\n",
      "  3.58912461e-03  8.14848375e-03  1.91811174e-03 -4.20147702e-03\n",
      "  8.09013790e-04  7.38713851e-04  1.47772724e-03  4.08695015e-04\n",
      "  8.05025251e-04  4.51233368e-04  8.88850124e-04  6.24359108e-04\n",
      "  2.54487087e-03  1.22915310e-03 -2.02281311e-03  8.37486920e-04\n",
      "  9.54839391e-04  4.61332623e-04 -4.10180994e-03  5.54866160e-03\n",
      "  2.91346007e-03  7.62176964e-04 -1.18193441e-03  7.01230501e-04\n",
      "  7.67722377e-04  4.19723716e-04  5.64890258e-04  9.77046425e-04\n",
      "  1.37976666e-03 -7.38294802e-05  1.19862007e-02  1.03507711e-02\n",
      "  8.71534148e-03  7.15845637e-03  5.87747525e-03  4.71728943e-03\n",
      "  3.55710360e-03  2.39691777e-03  1.23673195e-03  7.65461220e-05\n",
      " -1.08363970e-03 -2.24382553e-03 -6.32703174e-04 -1.42258980e-03\n",
      " -2.14033226e-03 -2.79511938e-03 -2.76722711e-03 -2.38295658e-03\n",
      " -2.78028602e-03 -3.17761546e-03 -3.57494490e-03 -3.97227434e-03\n",
      " -4.36960378e-03 -4.88980473e-03 -1.18306304e-03  2.04552992e-04\n",
      " -4.72306730e-04 -1.12843639e-03 -1.78456605e-03 -2.41464833e-03\n",
      " -5.75500512e-05  8.74232154e-04  7.03020185e-04  1.07296965e-03\n",
      "  4.85696147e-04 -6.06936988e-05 -5.81355822e-04 -8.32262785e-04\n",
      "  4.85249868e-04  1.58525552e-03  1.17848021e-03  7.71704892e-04\n",
      "  3.64929579e-04 -4.18457351e-05  2.16538687e-04 -9.25611690e-05\n",
      "  5.96256650e-04  1.50451735e-03  1.28661405e-03  1.07943325e-03\n",
      "  1.07560333e-03  9.44376856e-04  5.77741959e-04  2.11107061e-04\n",
      "  1.23062498e-03  8.78709048e-04  5.26793118e-04  1.74877189e-04\n",
      " -1.77038741e-04 -5.28954670e-04 -8.68629242e-04 -1.16518986e-03\n",
      " -1.45422300e-03 -1.72221340e-03 -5.45621144e-04  1.51798682e-03\n",
      "  1.32993376e-03  1.15450588e-03  1.21277818e-03  1.00569840e-03\n",
      "  7.98618613e-04  6.03451338e-04  4.21617888e-04  2.39784439e-04\n",
      "  5.79509888e-05  0.00000000e+00]\n",
      "The mean squared error is : 0.001363531814051861\n"
     ]
    }
   ],
   "source": [
    "# finding x for the multi-objective optimization problem\n",
    "\n",
    "I = np.identity(150)\n",
    "theta = random.uniform(0,0.2)\n",
    "\n",
    "inverse = np.linalg.inv(np.matmul(A.T, A) * 1/150 + I*theta) \n",
    "inverse = inverse * 1/150\n",
    "x = np.matmul(inverse, A.T)\n",
    "x = np.matmul(x, b)\n",
    "print(\"x is :\")\n",
    "print(x)\n",
    "\n",
    "# obtaining the mean squared error\n",
    "b_pred = np.matmul(A, x)\n",
    "mse = 0\n",
    "for i in range(100) :\n",
    "    mse += (b[i]-b_pred[i])**2\n",
    "    \n",
    "mse/=100\n",
    "print(\"The mean squared error is : \" + str(mse))"
   ]
  },
  {
   "cell_type": "code",
   "execution_count": 489,
   "metadata": {},
   "outputs": [
    {
     "name": "stdout",
     "output_type": "stream",
     "text": [
      "(100, 200)\n"
     ]
    }
   ],
   "source": [
    "# generating A for N=200\n",
    "\n",
    "A = [[f(p[i],j,200) for j in range(1,201)] for i in range(100)]\n",
    "A = np.array(A)\n",
    "print(A.shape)"
   ]
  },
  {
   "cell_type": "code",
   "execution_count": 490,
   "metadata": {},
   "outputs": [
    {
     "name": "stdout",
     "output_type": "stream",
     "text": [
      "x is :\n",
      "[ 0.00000000e+00  5.19234954e-03  2.08555959e-02  1.41978694e-02\n",
      "  1.66603941e-02  1.18734257e-02  1.32766300e-02  6.96612629e-03\n",
      "  1.13404957e-02  9.24746721e-03  8.86901137e-03  4.92388989e-03\n",
      "  5.24721698e-03  5.59999612e-03  5.76049136e-03  7.42566394e-03\n",
      "  5.27474601e-03  3.52516624e-03  1.79843339e-03  3.68734522e-03\n",
      "  2.38219176e-03  5.45313090e-03  4.81108986e-03  3.47261483e-03\n",
      "  1.97653660e-03  2.07876573e-03  2.43884457e-03  3.91744263e-03\n",
      "  3.16171130e-03  2.41522768e-03  3.59814761e-03  1.04198742e-03\n",
      "  3.35966212e-03  3.05386893e-03  2.39781588e-03  2.36490823e-03\n",
      "  1.45942995e-03  1.17170763e-03  3.07037455e-03  1.83579984e-03\n",
      "  1.04259890e-03  2.03485246e-03  1.51512273e-03  1.03213634e-03\n",
      "  2.18122832e-03  1.47958796e-03  7.77947589e-04  2.57081427e-03\n",
      "  1.72425662e-03  8.77698973e-04  3.11413223e-05  9.49903982e-04\n",
      "  3.67245835e-03  2.79629789e-03  1.92013742e-03  1.04397696e-03\n",
      "  1.67816492e-04  2.37724911e-03  1.83729342e-03  8.66551131e-04\n",
      "  2.61357116e-03  1.61998272e-03  6.26394278e-04  8.95899459e-04\n",
      "  5.26906065e-04  1.24782218e-03 -1.11776936e-03  3.43906696e-03\n",
      "  2.68961894e-04  7.63322806e-04  7.89226990e-04  5.13590327e-04\n",
      "  8.26496355e-04  2.56051274e-04  4.45083050e-04  1.01031024e-03\n",
      "  4.55282838e-04 -9.52032072e-05  7.53054007e-05  5.14927491e-04\n",
      "  5.80837137e-04 -7.95187616e-06  2.61653069e-04  6.19060530e-04\n",
      "  5.38103811e-05  1.13347035e-03  5.45072125e-04 -3.88257402e-05\n",
      " -5.91183121e-04  2.65919335e-04  4.01614177e-04 -1.62954006e-04\n",
      "  1.04881539e-04  2.03844006e-04  3.21420872e-05  3.31892630e-04\n",
      "  5.80993144e-04  1.64067418e-04 -2.52858307e-04  5.14251368e-03\n",
      "  4.66673417e-03  4.19095467e-03  3.71517516e-03  3.26950837e-03\n",
      "  2.88097437e-03  2.50791471e-03  2.13485505e-03  1.76179539e-03\n",
      "  1.38873573e-03  1.01567607e-03  6.42616415e-04  2.69556755e-04\n",
      " -1.03502905e-04 -4.76562564e-04  6.54844188e-04  7.58399055e-04\n",
      "  4.72695844e-04  1.89728716e-04 -8.87491170e-05 -3.67226950e-04\n",
      " -6.38492087e-05  4.20158411e-04  2.03862249e-04 -1.24339136e-05\n",
      " -2.28730076e-04 -4.45026238e-04 -6.61322400e-04 -8.77618562e-04\n",
      " -1.09391472e-03 -1.30493013e-03 -1.49463268e-03 -1.67424361e-03\n",
      " -1.41714879e-04  2.85202046e-04  2.82993004e-05 -2.28603445e-04\n",
      " -4.85506191e-04 -7.51209586e-04 -1.03597305e-03 -1.31468270e-03\n",
      " -1.58748188e-03 -1.85747974e-03 -3.33237829e-04 -5.24866999e-04\n",
      " -7.57211900e-04 -9.84410650e-04 -1.21160940e-03 -1.43862915e-03\n",
      " -5.12837728e-05  7.16091711e-04  5.45711080e-04  3.81702843e-04\n",
      "  2.06020629e-04  3.03384145e-05 -1.45343800e-04 -3.21026014e-04\n",
      " -4.96708228e-04 -4.40505178e-04 -6.02950063e-04 -7.65278269e-04\n",
      " -2.47101902e-04  3.98210294e-04  2.62014328e-04  1.25818361e-04\n",
      " -7.55010234e-06 -1.34690682e-04 -1.94052622e-05 -1.32675534e-04\n",
      " -2.45945806e-04 -3.59216077e-04 -8.24850770e-05  1.39283514e-04\n",
      "  5.35241345e-05 -3.22352446e-05 -1.17994624e-04 -2.03754003e-04\n",
      " -2.89513382e-04 -3.75272761e-04 -4.61032141e-04 -5.36962183e-04\n",
      " -6.07074453e-04 -6.77049969e-04 -7.39549197e-04 -8.02048426e-04\n",
      " -5.23197738e-04 -1.59106328e-04  4.21825855e-04  6.09180358e-04\n",
      "  5.80267939e-04  5.40700294e-04  4.75037495e-04  4.09366952e-04\n",
      "  3.43696409e-04  2.80042274e-04  2.21188493e-04  1.62334712e-04\n",
      "  1.03480930e-04  4.46271490e-05  0.00000000e+00  0.00000000e+00]\n",
      "The mean squared error is : 0.0005936218794991829\n"
     ]
    }
   ],
   "source": [
    "# finding x for the multi-objective optimization problem\n",
    "\n",
    "I = np.identity(200)\n",
    "theta = random.uniform(0,0.2)\n",
    "\n",
    "inverse = np.linalg.inv(np.matmul(A.T, A) * 1/200 + I*theta)\n",
    "inverse = inverse * 1/200\n",
    "x = np.matmul(inverse, A.T)\n",
    "x = np.matmul(x, b)\n",
    "print(\"x is :\")\n",
    "print(x)\n",
    "\n",
    "# obtaining the mean squared error\n",
    "b_pred = np.matmul(A, x)\n",
    "mse = 0\n",
    "for i in range(100) :\n",
    "    mse += (b[i]-b_pred[i])**2\n",
    "    \n",
    "mse/=100\n",
    "print(\"The mean squared error is : \" + str(mse))"
   ]
  },
  {
   "cell_type": "markdown",
   "metadata": {},
   "source": [
    "We notice as the number of basis functions(n) increases , the model is able to better fit the data in A . \n",
    "This is eveident by comparing the mean sqaured error values obtained for the 4 different values of n tried above."
   ]
  },
  {
   "cell_type": "markdown",
   "metadata": {},
   "source": [
    "## Question 6"
   ]
  },
  {
   "cell_type": "code",
   "execution_count": 562,
   "metadata": {},
   "outputs": [],
   "source": [
    "# load the auto-regressive dataset\n",
    "data = pd.read_csv(\"auto-regressive-data.csv\")\n",
    "\n",
    "# set the consumption column as the target variable\n",
    "Y = data['Consumption'].values"
   ]
  },
  {
   "cell_type": "code",
   "execution_count": 563,
   "metadata": {},
   "outputs": [],
   "source": [
    "# Creating lag features for each sample with the number of lag variables set to 8.\n",
    "\n",
    "lag = 8\n",
    "for i in range(1, lag+1):\n",
    "    data['lag' + str(i)] = data['Consumption'].shift(i)\n",
    "    "
   ]
  },
  {
   "cell_type": "code",
   "execution_count": 564,
   "metadata": {},
   "outputs": [
    {
     "name": "stdout",
     "output_type": "stream",
     "text": [
      "    Consumption      lag1      lag2      lag3      lag4      lag5      lag6  \\\n",
      "8      1529.323  1207.985  1300.287  1403.427  1477.131  1457.217  1442.533   \n",
      "9      1576.911  1529.323  1207.985  1300.287  1403.427  1477.131  1457.217   \n",
      "10     1577.176  1576.911  1529.323  1207.985  1300.287  1403.427  1477.131   \n",
      "11     1553.280  1577.176  1576.911  1529.323  1207.985  1300.287  1403.427   \n",
      "12     1545.002  1553.280  1577.176  1576.911  1529.323  1207.985  1300.287   \n",
      "13     1359.945  1545.002  1553.280  1577.176  1576.911  1529.323  1207.985   \n",
      "14     1265.475  1359.945  1545.002  1553.280  1577.176  1576.911  1529.323   \n",
      "15     1563.738  1265.475  1359.945  1545.002  1553.280  1577.176  1576.911   \n",
      "16     1598.303  1563.738  1265.475  1359.945  1545.002  1553.280  1577.176   \n",
      "17     1572.984  1598.303  1563.738  1265.475  1359.945  1545.002  1553.280   \n",
      "\n",
      "        lag7      lag8  \n",
      "8   1380.521  1069.184  \n",
      "9   1442.533  1380.521  \n",
      "10  1457.217  1442.533  \n",
      "11  1477.131  1457.217  \n",
      "12  1403.427  1477.131  \n",
      "13  1300.287  1403.427  \n",
      "14  1207.985  1300.287  \n",
      "15  1529.323  1207.985  \n",
      "16  1576.911  1529.323  \n",
      "17  1577.176  1576.911  \n",
      "[1576.911   1577.176   1553.28    ... 1295.08753 1215.44897 1107.11488]\n"
     ]
    }
   ],
   "source": [
    "# creating the dataset using the consumption column and the lag features\n",
    "X = data[['Consumption', 'lag1', 'lag2', 'lag3', 'lag4', 'lag5', 'lag6', 'lag7', 'lag8']].values\n",
    "X = pd.DataFrame(X)\n",
    "X.columns = ['Consumption', 'lag1', 'lag2', 'lag3', 'lag4', 'lag5', 'lag6', 'lag7', 'lag8']\n",
    "\n",
    "# remove the last row from X\n",
    "X = X[:-1]\n",
    "# setting y[i] = y[i+1] for each target variable\n",
    "y = Y[1:]\n",
    "\n",
    "# remove rows in X with null and corresponding row in y as well \n",
    "X=X[8:]\n",
    "y=y[8:]\n",
    "\n",
    "\n",
    "print(X[0:10])\n",
    "print(y)\n"
   ]
  },
  {
   "cell_type": "code",
   "execution_count": null,
   "metadata": {},
   "outputs": [],
   "source": []
  },
  {
   "cell_type": "code",
   "execution_count": 565,
   "metadata": {},
   "outputs": [
    {
     "name": "stdout",
     "output_type": "stream",
     "text": [
      "The coefficient vector x is :\n",
      "0    0.620847\n",
      "1   -0.031338\n",
      "2    0.086067\n",
      "3   -0.041179\n",
      "4    0.000276\n",
      "5    0.079755\n",
      "6    0.788296\n",
      "7   -0.434790\n",
      "8   -0.068580\n",
      "dtype: float64\n"
     ]
    }
   ],
   "source": [
    "# performing linear regression on the dataset\n",
    "inverse = np.linalg.inv(np.matmul(X.T, X))\n",
    "inverse = np.matmul(inverse, X.T)\n",
    "x = np.matmul(inverse, y)\n",
    "print(\"The coefficient vector x is :\")\n",
    "print(x)"
   ]
  },
  {
   "cell_type": "code",
   "execution_count": 566,
   "metadata": {},
   "outputs": [
    {
     "name": "stdout",
     "output_type": "stream",
     "text": [
      "(4374, 9) (9,)\n",
      "The predicted target variable is :\n",
      "[1545.94928531 1526.55653957 1555.84151371 ... 1274.61511251 1196.700392\n",
      " 1112.102017  ]\n",
      "The mean squared error is : 4967.854373277192\n"
     ]
    }
   ],
   "source": [
    "print(X.shape,x.shape)\n",
    "\n",
    "# predicting the target variable\n",
    "y_pred = np.dot(X, x)\n",
    "print(\"The predicted target variable is :\")\n",
    "print(y_pred)\n",
    "\n",
    "# calculating the mean squared error\n",
    "mse = 0\n",
    "for i in range(1, len(y_pred)):\n",
    "    mse += (y[i]-y_pred[i])**2\n",
    "mse/=len(y_pred)\n",
    "print(\"The mean squared error is : \" + str(mse))"
   ]
  },
  {
   "cell_type": "code",
   "execution_count": 567,
   "metadata": {},
   "outputs": [
    {
     "name": "stdout",
     "output_type": "stream",
     "text": [
      "[1576.911 1577.176 1553.28  1545.002 1359.945 1265.475 1563.738 1598.303\n",
      " 1572.984 1558.29  1540.604 1348.188 1248.111 1569.691 1603.252 1613.312\n",
      " 1601.673 1586.065 1373.03  1252.215]\n",
      "[1545.94928531 1526.55653957 1555.84151371 1455.8435418  1391.6184523\n",
      " 1277.69730481 1529.42701416 1606.12014049 1573.2949337  1563.12624171\n",
      " 1534.55056543 1372.3342799  1283.56151208 1518.17696086 1607.15370723\n",
      " 1560.60322347 1593.18700146 1554.10157638 1393.38359803 1291.83476021]\n"
     ]
    }
   ],
   "source": [
    "print(y[0:20])\n",
    "print(y_pred[0:20])"
   ]
  },
  {
   "cell_type": "markdown",
   "metadata": {},
   "source": [
    "## Question 7"
   ]
  },
  {
   "cell_type": "code",
   "execution_count": 496,
   "metadata": {},
   "outputs": [],
   "source": [
    "\n",
    "# Load the MNIST dataset as one dataset\n",
    "(X_train, y_train), (X_test, y_test) = mnist.load_data()\n",
    "\n",
    "# taking the first sample \n",
    "x = X_train[0]\n",
    "x = x.reshape(-1)\n",
    "target = y_train[0]"
   ]
  },
  {
   "cell_type": "code",
   "execution_count": 497,
   "metadata": {},
   "outputs": [
    {
     "ename": "ValueError",
     "evalue": "could not broadcast input array from shape (9,) into shape (784,)",
     "output_type": "error",
     "traceback": [
      "\u001b[0;31m---------------------------------------------------------------------------\u001b[0m",
      "\u001b[0;31mValueError\u001b[0m                                Traceback (most recent call last)",
      "\u001b[1;32m/Users/navaneeth1013/Desktop/Linal/Assignment1_21CS30032.ipynb Cell 42\u001b[0m line \u001b[0;36m7\n\u001b[1;32m      <a href='vscode-notebook-cell:/Users/navaneeth1013/Desktop/Linal/Assignment1_21CS30032.ipynb#Y102sZmlsZQ%3D%3D?line=4'>5</a>\u001b[0m A \u001b[39m=\u001b[39m np\u001b[39m.\u001b[39mzeros((\u001b[39m784\u001b[39m, \u001b[39m784\u001b[39m))\n\u001b[1;32m      <a href='vscode-notebook-cell:/Users/navaneeth1013/Desktop/Linal/Assignment1_21CS30032.ipynb#Y102sZmlsZQ%3D%3D?line=5'>6</a>\u001b[0m \u001b[39mfor\u001b[39;00m i \u001b[39min\u001b[39;00m \u001b[39mrange\u001b[39m(\u001b[39m784\u001b[39m):\n\u001b[0;32m----> <a href='vscode-notebook-cell:/Users/navaneeth1013/Desktop/Linal/Assignment1_21CS30032.ipynb#Y102sZmlsZQ%3D%3D?line=6'>7</a>\u001b[0m     A[i] \u001b[39m=\u001b[39m np\u001b[39m.\u001b[39mroll(kernel, i\u001b[39m%\u001b[39m\u001b[39m28\u001b[39m, axis\u001b[39m=\u001b[39m\u001b[39m1\u001b[39m)\u001b[39m.\u001b[39mreshape(\u001b[39m-\u001b[39m\u001b[39m1\u001b[39m)\n\u001b[1;32m      <a href='vscode-notebook-cell:/Users/navaneeth1013/Desktop/Linal/Assignment1_21CS30032.ipynb#Y102sZmlsZQ%3D%3D?line=8'>9</a>\u001b[0m \u001b[39m# generate the y vector\u001b[39;00m\n\u001b[1;32m     <a href='vscode-notebook-cell:/Users/navaneeth1013/Desktop/Linal/Assignment1_21CS30032.ipynb#Y102sZmlsZQ%3D%3D?line=9'>10</a>\u001b[0m y \u001b[39m=\u001b[39m np\u001b[39m.\u001b[39mmatmul(A, x)\n",
      "\u001b[0;31mValueError\u001b[0m: could not broadcast input array from shape (9,) into shape (784,)"
     ]
    }
   ],
   "source": [
    "# create a 3x3 numpy array\n",
    "kernel = np.array([[1/16,1/8,1/16],[1/8,1/4,1/8],[1/16,1/8,1/16]])\n",
    "\n",
    "# vectorise the kernel\n",
    "kernel = np.reshape(kernel, -1)\n"
   ]
  },
  {
   "cell_type": "code",
   "execution_count": null,
   "metadata": {},
   "outputs": [],
   "source": []
  },
  {
   "cell_type": "markdown",
   "metadata": {},
   "source": [
    "## Question 8\n",
    "\n"
   ]
  },
  {
   "cell_type": "code",
   "execution_count": 568,
   "metadata": {},
   "outputs": [],
   "source": [
    "p = []\n",
    "q = []\n",
    "\n",
    "for i in range(100) :\n",
    "    # populate p and q with random floating values between 10 and -10\n",
    "    p.append(random.uniform(-1, 1))\n",
    "    q.append(random.uniform(-1, 1))\n",
    "    \n",
    "# generating target variable b\n",
    "b = [(p[i]*q[1]+p[i]*p[i]+q[i]*q[i]) for i in range(100)]\n",
    "\n",
    "p=np.array(p)\n",
    "q=np.array(q)\n",
    "b=np.array(b)"
   ]
  },
  {
   "cell_type": "code",
   "execution_count": 569,
   "metadata": {},
   "outputs": [
    {
     "name": "stdout",
     "output_type": "stream",
     "text": [
      "(100, 6)\n"
     ]
    }
   ],
   "source": [
    "# generating A\n",
    "A  = [[1,p[i],q[i],p[i]*p[i],q[i]*q[i],p[i]*q[i]] for i in range(100)]\n",
    "A = np.array(A)\n",
    "print(A.shape)"
   ]
  },
  {
   "cell_type": "code",
   "execution_count": 573,
   "metadata": {},
   "outputs": [],
   "source": [
    "# using gradient descent to apply least squares on A with target varible as b\n",
    "\n",
    "def find_gradient(X,y,theta) :\n",
    "    m=X.shape[0]\n",
    "    n=X.shape[1]\n",
    "    \n",
    "    dl_d0=np.zeros((n,))\n",
    "    theta_transpose = np.transpose(theta)\n",
    "    \n",
    "    for j in range(n) :\n",
    "         err = np.matmul(X,theta_transpose)-y\n",
    "         err = np.dot(err,X[:,j])\n",
    "         dl_d0[j] = err/m\n",
    "        \n",
    "    return dl_d0"
   ]
  },
  {
   "cell_type": "code",
   "execution_count": 577,
   "metadata": {},
   "outputs": [],
   "source": [
    "def gradient_descent(X_train,y_train,alpha,iterations) : \n",
    "    m = X_train.shape[0]\n",
    "    n= X_train.shape[1]\n",
    "    \n",
    "    # setting initial theta to be all 1s\n",
    "    theta = np.ones(n)\n",
    "    \n",
    "    for i in range(iterations) :\n",
    "        gradient = find_gradient(X_train,y_train,theta)\n",
    "        theta = theta - alpha*gradient\n",
    "        \n",
    "    return theta"
   ]
  },
  {
   "cell_type": "code",
   "execution_count": 578,
   "metadata": {},
   "outputs": [
    {
     "name": "stdout",
     "output_type": "stream",
     "text": [
      "x is  [ 7.02372282e-07  6.22634800e-02 -1.07713170e-08  9.99999039e-01\n",
      "  9.99998965e-01  3.47642221e-07]\n"
     ]
    }
   ],
   "source": [
    "# setting learning rate and number of iterations\n",
    "l_rate = 0.1\n",
    "iterations = 2000\n",
    "\n",
    "x = gradient_descent(A,b,l_rate,iterations)\n",
    "\n",
    "print(\"x is \",x)\n"
   ]
  },
  {
   "cell_type": "code",
   "execution_count": 582,
   "metadata": {},
   "outputs": [
    {
     "name": "stdout",
     "output_type": "stream",
     "text": [
      "The mean squared error is : 1.6625613733647515e-13\n"
     ]
    }
   ],
   "source": [
    "# prediction on the train set\n",
    "b_pred = np.matmul(A,x)\n",
    "\n",
    "\n",
    "# calculating the mean squared error\n",
    "mse = 0\n",
    "for i in range(1, len(b_pred)):\n",
    "    mse += (b[i]-b_pred[i])**2\n",
    "mse/=len(b_pred)\n",
    "print(\"The mean squared error is : \" + str(mse))"
   ]
  },
  {
   "cell_type": "markdown",
   "metadata": {},
   "source": [
    "## Question 9"
   ]
  },
  {
   "cell_type": "code",
   "execution_count": 610,
   "metadata": {},
   "outputs": [],
   "source": [
    "# load the  dataset\n",
    "data = pd.read_csv(\"assignment9_data.csv\")"
   ]
  },
  {
   "cell_type": "code",
   "execution_count": 611,
   "metadata": {},
   "outputs": [],
   "source": [
    "# splitting the data into sets that lie in 3 different intervals of t\n",
    "set1 = data[data['t']<=1]\n",
    "set2 = data[(data['t']>=1) & (data['t']<=2)]\n",
    "set3 = data[data['t']>=2]"
   ]
  },
  {
   "cell_type": "code",
   "execution_count": 612,
   "metadata": {},
   "outputs": [
    {
     "name": "stdout",
     "output_type": "stream",
     "text": [
      "A.shape is  (150, 10)\n",
      "b.shape is  (150,)\n"
     ]
    }
   ],
   "source": [
    "# generating the matrix A as a block matrix and target vector b\n",
    "\n",
    "M1 = [[1,set1['t'].iloc[i],set1['t'].iloc[i]**2] for i in range(set1.shape[0])]\n",
    "M2 = [[1,set2['t'].iloc[i],set2['t'].iloc[i]**2,set2['t'].iloc[i]**3] for i in range(set2.shape[0])]\n",
    "M3 = [[1,set3['t'].iloc[i],set3['t'].iloc[i]**2] for i in range(set3.shape[0])]\n",
    "\n",
    "M1 = np.array(M1)\n",
    "M2 = np.array(M2)\n",
    "M3 = np.array(M3)\n",
    "\n",
    "A = np.block([[M1,np.zeros((50,4)),np.zeros((50,3))], [np.zeros((50,3)),M2,np.zeros((50,3))], [np.zeros((50,3)),np.zeros((50,4)),M3]])\n",
    "b = np.concatenate((set1['b'].values,set2['b'].values,set3['b'].values))\n",
    "\n",
    "print(\"A.shape is \",A.shape)\n",
    "print(\"b.shape is \",b.shape)"
   ]
  },
  {
   "cell_type": "code",
   "execution_count": 619,
   "metadata": {},
   "outputs": [
    {
     "name": "stdout",
     "output_type": "stream",
     "text": [
      "C.shape is  (3, 10)\n",
      "d.shape is  (3,)\n"
     ]
    }
   ],
   "source": [
    "# making the matrix C and d\n",
    "C = [[1,1,1,-1,-1,-1,-1,0,0,0],[0,0,0,1,2,4,8,-1,-2,-4],[0,0,0,0,1,4,12,0,-1,-4]]\n",
    "C = np.array(C)\n",
    "d= np.zeros((3,))\n",
    "print(\"C.shape is \",C.shape)\n",
    "print(\"d.shape is \",d.shape)"
   ]
  },
  {
   "cell_type": "code",
   "execution_count": 620,
   "metadata": {},
   "outputs": [],
   "source": [
    "# making the KKT matrix and the target vector\n",
    "\n",
    "KKT = np.block([[2*np.matmul(A.T,A),C.T],[C,np.zeros((3,3))]])\n",
    "target = np.concatenate((2*np.matmul(A.T,b),d))"
   ]
  },
  {
   "cell_type": "code",
   "execution_count": 622,
   "metadata": {},
   "outputs": [
    {
     "name": "stdout",
     "output_type": "stream",
     "text": [
      "(13,)\n"
     ]
    }
   ],
   "source": [
    "# let theta be the output of the optimization problem\n",
    "\n",
    "theta = np.matmul(np.linalg.inv(KKT),target)\n",
    "print(theta.shape)"
   ]
  },
  {
   "cell_type": "code",
   "execution_count": 623,
   "metadata": {},
   "outputs": [
    {
     "name": "stdout",
     "output_type": "stream",
     "text": [
      "The first polynomial is : \n",
      "   2\n",
      "4 x - 3 x + 1\n",
      "The second polynomial is : \n",
      "   3             2\n",
      "1 x - 3.492e-10 x - 2 x + 3\n",
      "The third polynomial is : \n",
      " \n",
      "0\n"
     ]
    }
   ],
   "source": [
    "# the last 3 elements of theta are the lagrange multipliers\n",
    "lagrange = theta[7:]\n",
    "\n",
    "# the first 7 elements of theta are the coefficients of the polynomial\n",
    "coeff = theta[:7]\n",
    "\n",
    "# fitting the 3 polynomials\n",
    "poly1 = np.poly1d(coeff[:3])\n",
    "poly2 = np.poly1d(coeff[3:7])\n",
    "poly3 = np.poly1d(coeff[7:])\n",
    "\n",
    "# printing the polynomials\n",
    "print(\"The first polynomial is : \")\n",
    "print(poly1)\n",
    "print(\"The second polynomial is : \")\n",
    "print(poly2)\n",
    "print(\"The third polynomial is : \")\n",
    "print(poly3)"
   ]
  },
  {
   "cell_type": "code",
   "execution_count": null,
   "metadata": {},
   "outputs": [],
   "source": []
  }
 ],
 "metadata": {
  "kernelspec": {
   "display_name": "env",
   "language": "python",
   "name": "python3"
  },
  "language_info": {
   "codemirror_mode": {
    "name": "ipython",
    "version": 3
   },
   "file_extension": ".py",
   "mimetype": "text/x-python",
   "name": "python",
   "nbconvert_exporter": "python",
   "pygments_lexer": "ipython3",
   "version": "3.9.18"
  },
  "orig_nbformat": 4
 },
 "nbformat": 4,
 "nbformat_minor": 2
}
