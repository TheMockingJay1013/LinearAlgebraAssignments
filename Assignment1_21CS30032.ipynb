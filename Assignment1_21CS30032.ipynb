{
 "cells": [
  {
   "cell_type": "markdown",
   "metadata": {},
   "source": [
    "# Linear Algebra For AI and ML \n",
    "\n",
    "## Assignment 1\n",
    "\n",
    "### Name : Navaneeth Shaji\n",
    "### Roll no : 21CS30032\n",
    "\n",
    "### Requirements : \n",
    "    Certain libraries must be installed in order to run the following program .\n",
    "    The required libraries can be install by running the command \"pip install -r requirements.txt\"  on the terminal"
   ]
  },
  {
   "cell_type": "code",
   "execution_count": 402,
   "metadata": {},
   "outputs": [],
   "source": [
    "import tensorflow as tf\n",
    "from tensorflow.keras.datasets import mnist\n",
    "import matplotlib.pyplot as plt\n",
    "import numpy as np\n",
    "import random\n",
    "from sklearn.preprocessing import StandardScaler\n",
    "from sklearn.metrics import confusion_matrix\n",
    "from tabulate import tabulate"
   ]
  },
  {
   "cell_type": "markdown",
   "metadata": {},
   "source": [
    "## Question 1\n"
   ]
  },
  {
   "cell_type": "code",
   "execution_count": 403,
   "metadata": {},
   "outputs": [],
   "source": [
    "\n",
    "# Load the MNIST dataset as one dataset\n",
    "(X_train, y_train), (X_test, y_test) = mnist.load_data()"
   ]
  },
  {
   "cell_type": "code",
   "execution_count": 404,
   "metadata": {},
   "outputs": [
    {
     "name": "stdout",
     "output_type": "stream",
     "text": [
      "(60000, 784) (10000, 784)\n"
     ]
    }
   ],
   "source": [
    "# vectorize the data\n",
    "X_train = X_train.reshape(X_train.shape[0], -1)\n",
    "X_test = X_test.reshape(X_test.shape[0], -1)\n",
    "\n",
    "print(X_train.shape, X_test.shape)\n",
    "\n",
    "# Normalize the data\n",
    "scaler = StandardScaler()\n",
    "X_train = scaler.fit_transform(X_train)\n",
    "X_test = scaler.transform(X_test)\n"
   ]
  },
  {
   "cell_type": "code",
   "execution_count": 405,
   "metadata": {},
   "outputs": [
    {
     "name": "stdout",
     "output_type": "stream",
     "text": [
      "(13007, 784) (2163, 784)\n",
      "(13007,) (2163,)\n"
     ]
    }
   ],
   "source": [
    "# select the rows in X_train and y _train  where the label is 1 or 7\n",
    "X_train_class1 = X_train[y_train == 1]\n",
    "y_train_class1 = y_train[y_train == 1]\n",
    "X_train_class7 = X_train[y_train == 7]\n",
    "y_train_class7 = y_train[y_train == 7]\n",
    "\n",
    "# combine the two classes\n",
    "X_train = np.concatenate((X_train_class1, X_train_class7))\n",
    "y_train = np.concatenate((y_train_class1, y_train_class7))\n",
    "\n",
    "# select the rows in X_test and y _test  where the label is 1 or 7\n",
    "X_test_class1 = X_test[y_test == 1]\n",
    "y_test_class1 = y_test[y_test == 1]\n",
    "X_test_class7 = X_test[y_test == 7]\n",
    "y_test_class7 = y_test[y_test == 7]\n",
    "\n",
    "# combine the two classes\n",
    "X_test = np.concatenate((X_test_class1, X_test_class7))\n",
    "y_test = np.concatenate((y_test_class1, y_test_class7))\n",
    "\n",
    "\n",
    "\n",
    "# set the label  7 to -1\n",
    "y_test = np.array(y_test).astype(np.int8)\n",
    "y_train = np.array(y_train).astype(np.int8)\n",
    "y_test[y_test == 7] = -1\n",
    "y_train[y_train == 7] = -1\n",
    "\n",
    "\n",
    "print(X_train.shape, X_test.shape)\n",
    "print(y_train.shape, y_test.shape)\n"
   ]
  },
  {
   "cell_type": "code",
   "execution_count": 406,
   "metadata": {},
   "outputs": [],
   "source": [
    "# Modify the cost function to include the regularization term theta\n",
    "I = np.identity(X_train.shape[1])\n",
    "theta = 0.01"
   ]
  },
  {
   "cell_type": "code",
   "execution_count": 407,
   "metadata": {},
   "outputs": [
    {
     "name": "stdout",
     "output_type": "stream",
     "text": [
      "(784,)\n"
     ]
    }
   ],
   "source": [
    "# calculate the alpha with regularization term\n",
    "inverse = np.linalg.inv(np.matmul(X_train.T, X_train) + theta*I)\n",
    "inverse = np.matmul(inverse, X_train.T)\n",
    "alpha = np.dot(beta, y_train)\n",
    "print(alpha.shape)\n",
    "\n",
    "\n"
   ]
  },
  {
   "cell_type": "code",
   "execution_count": 408,
   "metadata": {},
   "outputs": [
    {
     "name": "stdout",
     "output_type": "stream",
     "text": [
      "Accuracy:  0.9889042995839112\n",
      "Confusion Matrix: \n",
      "+---------+---------------+----------------+\n",
      "|         |   Predicted 1 |   Predicted -1 |\n",
      "|---------+---------------+----------------|\n",
      "| True 1  |          1007 |             21 |\n",
      "| True -1 |             3 |           1132 |\n",
      "+---------+---------------+----------------+\n"
     ]
    }
   ],
   "source": [
    "# predict the labels for X_test\n",
    "y_pred = np.matmul(X_test, alpha)\n",
    "y_pred[y_pred >= 0] = 1\n",
    "y_pred[y_pred < 0] = -1\n",
    "\n",
    "# calculate the accuracy\n",
    "correct = 0\n",
    "for i in range(len(y_pred)):\n",
    "    if y_pred[i] == y_test[i]:\n",
    "        correct += 1\n",
    "print(\"Accuracy: \", correct/len(y_pred))\n",
    "\n",
    "# making the confusion matrix\n",
    "cm = confusion_matrix(y_test, y_pred)\n",
    "cm = pd.DataFrame(cm, index = ['True 1', 'True -1'], columns = ['Predicted 1', 'Predicted -1'])\n",
    "\n",
    "print(\"Confusion Matrix: \")\n",
    "print(tabulate(cm, headers='keys', tablefmt='psql'))\n"
   ]
  },
  {
   "cell_type": "markdown",
   "metadata": {},
   "source": [
    "## Question 2"
   ]
  },
  {
   "cell_type": "code",
   "execution_count": 409,
   "metadata": {},
   "outputs": [],
   "source": [
    "# Load the MNIST dataset as one dataset\n",
    "(X_train, y_train), (X_test, y_test) = mnist.load_data()"
   ]
  },
  {
   "cell_type": "code",
   "execution_count": null,
   "metadata": {},
   "outputs": [
    {
     "name": "stdout",
     "output_type": "stream",
     "text": [
      "(60000, 784) (10000, 784)\n"
     ]
    }
   ],
   "source": [
    "# vectorize the data\n",
    "X_train = X_train.reshape(X_train.shape[0], -1)\n",
    "X_test = X_test.reshape(X_test.shape[0], -1)\n",
    "\n",
    "# normalise the data\n",
    "scaler = StandardScaler()\n",
    "X_train = scaler.fit_transform(X_train)\n",
    "X_test = scaler.transform(X_test)\n",
    "\n",
    "print(X_train.shape, X_test.shape)"
   ]
  },
  {
   "cell_type": "code",
   "execution_count": null,
   "metadata": {},
   "outputs": [],
   "source": [
    "# making dataset for each class\n",
    "#class 0\n",
    "X_train_class0 = X_train[y_train == 0]\n",
    "X_train_classNOT0 = X_train[y_train != 0]\n",
    "y_train_class0 = y_train[y_train == 0]\n",
    "y_train_classNOT0 = y_train[y_train != 0]\n",
    "\n",
    "random_indices = np.random.choice(X_train_classNOT0.shape[0], X_train_class0.shape[0], replace=False)\n",
    "X_train_classNOT0 = X_train_classNOT0[random_indices]\n",
    "y_train_classNOT0 = y_train_classNOT0[random_indices]\n",
    "\n",
    "y_train_class0 = np.array(y_train_class0).astype(np.int8)\n",
    "y_train_classNOT0 = np.array(y_train_classNOT0).astype(np.int8)\n",
    "y_train_class0[y_train_class0 == 0] = 1\n",
    "y_train_classNOT0[y_train_classNOT0 != 0] = -1\n",
    "\n",
    "\n",
    "#combine\n",
    "X_train_class0 = np.concatenate((X_train_class0, X_train_classNOT0))\n",
    "y_train_class0 = np.concatenate((y_train_class0, y_train_classNOT0))\n",
    "\n",
    "\n",
    "# Class 1\n",
    "X_train_class1 = X_train[y_train == 1]\n",
    "X_train_classNOT1 = X_train[y_train != 1]\n",
    "y_train_class1 = y_train[y_train == 1]\n",
    "y_train_classNOT1 = y_train[y_train != 1]\n",
    "\n",
    "random_indices = np.random.choice(X_train_classNOT1.shape[0], X_train_class1.shape[0], replace=False)\n",
    "X_train_classNOT1 = X_train_classNOT1[random_indices]\n",
    "y_train_classNOT1 = y_train_classNOT1[random_indices]\n",
    "\n",
    "y_train_class1 = np.array(y_train_class1).astype(np.int8)\n",
    "y_train_classNOT1 = np.array(y_train_classNOT1).astype(np.int8)\n",
    "y_train_class1[y_train_class1 == 1] = 1\n",
    "y_train_classNOT1[y_train_classNOT1 != 1] = -1\n",
    "\n",
    "#combine\n",
    "X_train_class1 = np.concatenate((X_train_class1, X_train_classNOT1))\n",
    "y_train_class1 = np.concatenate((y_train_class1, y_train_classNOT1))\n",
    "\n",
    "\n",
    "#class 2\n",
    "X_train_class2 = X_train[y_train == 2]\n",
    "X_train_classNOT2 = X_train[y_train != 2]\n",
    "y_train_class2 = y_train[y_train == 2]\n",
    "y_train_classNOT2 = y_train[y_train != 2]\n",
    "\n",
    "random_indices = np.random.choice(X_train_classNOT2.shape[0], X_train_class2.shape[0], replace=False)\n",
    "X_train_classNOT2 = X_train_classNOT2[random_indices]\n",
    "y_train_classNOT2 = y_train_classNOT2[random_indices]\n",
    "\n",
    "y_train_class2 = np.array(y_train_class2).astype(np.int8)\n",
    "y_train_classNOT2 = np.array(y_train_classNOT2).astype(np.int8)\n",
    "y_train_class2[y_train_class2 == 2] = 1\n",
    "y_train_classNOT2[y_train_classNOT2 != 2] = -1\n",
    "\n",
    "#combine\n",
    "X_train_class2 = np.concatenate((X_train_class2, X_train_classNOT2))\n",
    "y_train_class2 = np.concatenate((y_train_class2, y_train_classNOT2))\n",
    "\n",
    "\n",
    "\n",
    "\n",
    "\n",
    "#class 3\n",
    "X_train_class3 = X_train[y_train == 3]\n",
    "X_train_classNOT3 = X_train[y_train != 3]\n",
    "y_train_class3 = y_train[y_train == 3]\n",
    "y_train_classNOT3 = y_train[y_train != 3]\n",
    "\n",
    "random_indices = np.random.choice(X_train_classNOT3.shape[0], X_train_class3.shape[0], replace=False)\n",
    "X_train_classNOT3 = X_train_classNOT3[random_indices]\n",
    "y_train_classNOT3 = y_train_classNOT3[random_indices]\n",
    "\n",
    "y_train_class3 = np.array(y_train_class3).astype(np.int8)\n",
    "y_train_classNOT3 = np.array(y_train_classNOT3).astype(np.int8)\n",
    "y_train_class3[y_train_class3 == 3] = 1\n",
    "y_train_classNOT3[y_train_classNOT3 != 3] = -1\n",
    "\n",
    "#combine\n",
    "X_train_class3 = np.concatenate((X_train_class3, X_train_classNOT3))\n",
    "y_train_class3 = np.concatenate((y_train_class3, y_train_classNOT3))\n",
    "\n",
    "\n",
    "\n",
    "\n",
    "\n",
    "#class 4\n",
    "X_train_class4 = X_train[y_train == 4]\n",
    "X_train_classNOT4 = X_train[y_train != 4]\n",
    "y_train_class4 = y_train[y_train == 4]\n",
    "y_train_classNOT4 = y_train[y_train != 4]\n",
    "\n",
    "random_indices = np.random.choice(X_train_classNOT4.shape[0], X_train_class4.shape[0], replace=False)\n",
    "X_train_classNOT4 = X_train_classNOT4[random_indices]\n",
    "y_train_classNOT4 = y_train_classNOT4[random_indices]\n",
    "\n",
    "y_train_class4 = np.array(y_train_class4).astype(np.int8)\n",
    "y_train_classNOT4 = np.array(y_train_classNOT4).astype(np.int8)\n",
    "y_train_class4[y_train_class4 == 4] = 1\n",
    "y_train_classNOT4[y_train_classNOT4 != 4] = -1\n",
    "\n",
    "#combine\n",
    "X_train_class4 = np.concatenate((X_train_class4, X_train_classNOT4))\n",
    "y_train_class4 = np.concatenate((y_train_class4, y_train_classNOT4))\n",
    "\n",
    "\n",
    "\n",
    "\n",
    "\n",
    "#class 5\n",
    "X_train_class5 = X_train[y_train == 5]\n",
    "X_train_classNOT5 = X_train[y_train != 5]\n",
    "y_train_class5 = y_train[y_train == 5]\n",
    "y_train_classNOT5 = y_train[y_train != 5]\n",
    "\n",
    "random_indices = np.random.choice(X_train_classNOT5.shape[0], X_train_class5.shape[0], replace=False)\n",
    "X_train_classNOT5 = X_train_classNOT5[random_indices]\n",
    "y_train_classNOT5 = y_train_classNOT5[random_indices]\n",
    "\n",
    "y_train_class5 = np.array(y_train_class5).astype(np.int8)\n",
    "y_train_classNOT5 = np.array(y_train_classNOT5).astype(np.int8)\n",
    "y_train_class5[y_train_class5 == 5] = 1\n",
    "y_train_classNOT5[y_train_classNOT5 != 5] = -1\n",
    "\n",
    "#combine\n",
    "X_train_class5 = np.concatenate((X_train_class5, X_train_classNOT5))\n",
    "y_train_class5 = np.concatenate((y_train_class5, y_train_classNOT5))\n",
    "\n",
    "\n",
    "\n",
    "\n",
    "\n",
    "#class 6\n",
    "X_train_class6 = X_train[y_train == 6]\n",
    "X_train_classNOT6 = X_train[y_train != 6]\n",
    "y_train_class6 = y_train[y_train == 6]\n",
    "y_train_classNOT6 = y_train[y_train != 6]\n",
    "\n",
    "random_indices = np.random.choice(X_train_classNOT6.shape[0], X_train_class6.shape[0], replace=False)\n",
    "X_train_classNOT6 = X_train_classNOT6[random_indices]\n",
    "y_train_classNOT6 = y_train_classNOT6[random_indices]\n",
    "\n",
    "y_train_class6 = np.array(y_train_class6).astype(np.int8)\n",
    "y_train_classNOT6 = np.array(y_train_classNOT6).astype(np.int8)\n",
    "y_train_class6[y_train_class6 == 6] = 1\n",
    "y_train_classNOT6[y_train_classNOT6 != 6] = -1\n",
    "\n",
    "#combine\n",
    "X_train_class6 = np.concatenate((X_train_class6, X_train_classNOT6))\n",
    "y_train_class6 = np.concatenate((y_train_class6, y_train_classNOT6))\n",
    "\n",
    "\n",
    "\n",
    "\n",
    "\n",
    "#class 7\n",
    "X_train_class7 = X_train[y_train == 7]\n",
    "X_train_classNOT7 = X_train[y_train != 7]\n",
    "y_train_class7 = y_train[y_train == 7]\n",
    "y_train_classNOT7 = y_train[y_train != 7]\n",
    "\n",
    "random_indices = np.random.choice(X_train_classNOT7.shape[0], X_train_class7.shape[0], replace=False)\n",
    "X_train_classNOT7 = X_train_classNOT7[random_indices]\n",
    "y_train_classNOT7 = y_train_classNOT7[random_indices]\n",
    "\n",
    "y_train_class7 = np.array(y_train_class7).astype(np.int8)\n",
    "y_train_classNOT7 = np.array(y_train_classNOT7).astype(np.int8)\n",
    "y_train_class7[y_train_class7 == 7] = 1\n",
    "y_train_classNOT7[y_train_classNOT7 != 7] = -1\n",
    "\n",
    "\n",
    "#combine\n",
    "X_train_class7 = np.concatenate((X_train_class7, X_train_classNOT7))\n",
    "y_train_class7 = np.concatenate((y_train_class7, y_train_classNOT7))\n",
    "\n",
    "\n",
    "#class 8\n",
    "X_train_class8 = X_train[y_train == 8]\n",
    "X_train_classNOT8 = X_train[y_train != 8]\n",
    "y_train_class8 = y_train[y_train == 8]\n",
    "y_train_classNOT8 = y_train[y_train != 8]\n",
    "\n",
    "random_indices = np.random.choice(X_train_classNOT8.shape[0], X_train_class8.shape[0], replace=False)\n",
    "X_train_classNOT8 = X_train_classNOT8[random_indices]\n",
    "y_train_classNOT8 = y_train_classNOT8[random_indices]\n",
    "\n",
    "y_train_class8 = np.array(y_train_class8).astype(np.int8)\n",
    "y_train_classNOT8 = np.array(y_train_classNOT8).astype(np.int8)\n",
    "y_train_class8[y_train_class8 == 8] = 1\n",
    "y_train_classNOT8[y_train_classNOT8 != 8] = -1\n",
    "\n",
    "#combine\n",
    "X_train_class8 = np.concatenate((X_train_class8, X_train_classNOT8))\n",
    "y_train_class8 = np.concatenate((y_train_class8, y_train_classNOT8))\n",
    "\n",
    "\n",
    "\n",
    "#class 9\n",
    "X_train_class9 = X_train[y_train == 9]\n",
    "X_train_classNOT9 = X_train[y_train != 9]\n",
    "y_train_class9 = y_train[y_train == 9]\n",
    "y_train_classNOT9 = y_train[y_train != 9]\n",
    "\n",
    "random_indices = np.random.choice(X_train_classNOT9.shape[0], X_train_class9.shape[0], replace=False)\n",
    "X_train_classNOT9 = X_train_classNOT9[random_indices]\n",
    "y_train_classNOT9 = y_train_classNOT9[random_indices]\n",
    "\n",
    "y_train_class9 = np.array(y_train_class9).astype(np.int8)\n",
    "y_train_classNOT9 = np.array(y_train_classNOT9).astype(np.int8)\n",
    "y_train_class9[y_train_class9 == 9] = 1\n",
    "y_train_classNOT9[y_train_classNOT9 != 9] = -1\n",
    "\n",
    "#combine\n",
    "X_train_class9 = np.concatenate((X_train_class9, X_train_classNOT9))\n",
    "y_train_class9 = np.concatenate((y_train_class9, y_train_classNOT9))\n"
   ]
  },
  {
   "cell_type": "code",
   "execution_count": null,
   "metadata": {},
   "outputs": [],
   "source": [
    "# setting the regularization term\n",
    "theta = 0.01\n",
    "I = np.identity(X_train.shape[1])"
   ]
  },
  {
   "cell_type": "code",
   "execution_count": null,
   "metadata": {},
   "outputs": [],
   "source": [
    "# applying least squares on each class\n",
    "# class 0\n",
    "inverse = np.linalg.inv(np.matmul(X_train_class0.T, X_train_class0)+theta*I)\n",
    "alpha0 = np.matmul(inverse, X_train_class0.T)\n",
    "alpha0 = np.matmul(alpha0, y_train_class0)\n",
    "\n",
    "# class 1\n",
    "inverse = np.linalg.inv(np.matmul(X_train_class1.T, X_train_class1)+theta*I)\n",
    "alpha1 = np.matmul(inverse, X_train_class1.T)\n",
    "alpha1 = np.matmul(alpha1, y_train_class1)\n",
    "\n",
    "# class 2\n",
    "inverse = np.linalg.inv(np.matmul(X_train_class2.T, X_train_class2)+theta*I)\n",
    "alpha2 = np.matmul(inverse, X_train_class2.T)\n",
    "alpha2 = np.matmul(alpha2, y_train_class2)\n",
    "\n",
    "# class 3\n",
    "inverse = np.linalg.inv(np.matmul(X_train_class3.T, X_train_class3)+theta*I)\n",
    "alpha3 = np.matmul(inverse, X_train_class3.T)\n",
    "alpha3 = np.matmul(alpha3, y_train_class3)\n",
    "\n",
    "# class 4\n",
    "inverse = np.linalg.inv(np.matmul(X_train_class4.T, X_train_class4)+theta*I)\n",
    "alpha4 = np.matmul(inverse, X_train_class4.T)\n",
    "alpha4 = np.matmul(alpha4, y_train_class4)\n",
    "\n",
    "# class 5\n",
    "inverse = np.linalg.inv(np.matmul(X_train_class5.T, X_train_class5)+theta*I)\n",
    "alpha5 = np.matmul(inverse, X_train_class5.T)\n",
    "alpha5 = np.matmul(alpha5, y_train_class5)\n",
    "\n",
    "# class 6\n",
    "inverse = np.linalg.inv(np.matmul(X_train_class6.T, X_train_class6) + theta*I)\n",
    "alpha6 = np.matmul(inverse, X_train_class6.T)\n",
    "alpha6 = np.matmul(alpha6, y_train_class6)\n",
    "\n",
    "# class 7\n",
    "inverse = np.linalg.inv(np.matmul(X_train_class7.T, X_train_class7) + theta*I)\n",
    "alpha7 = np.matmul(inverse, X_train_class7.T)\n",
    "alpha7 = np.matmul(alpha7, y_train_class7)\n",
    "\n",
    "# class 8\n",
    "inverse = np.linalg.inv(np.matmul(X_train_class8.T, X_train_class8) + theta*I)\n",
    "alpha8 = np.matmul(inverse, X_train_class8.T)\n",
    "alpha8 = np.matmul(alpha8, y_train_class8)\n",
    "\n",
    "# class 9\n",
    "inverse = np.linalg.inv(np.matmul(X_train_class9.T, X_train_class9) + theta*I)\n",
    "alpha9 = np.matmul(inverse, X_train_class9.T)\n",
    "alpha9 = np.matmul(alpha9, y_train_class9)\n"
   ]
  },
  {
   "cell_type": "code",
   "execution_count": null,
   "metadata": {},
   "outputs": [
    {
     "name": "stdout",
     "output_type": "stream",
     "text": [
      "Accuracy:  0.8783\n"
     ]
    }
   ],
   "source": [
    "# For each sample in the test set, get a prediction from all 10 linear models and assign it the class for which it receives the highest score.\n",
    "\n",
    "y_pred = np.zeros((X_test.shape[0], 10))\n",
    "y_pred[:,0] = np.matmul(X_test, alpha0)\n",
    "y_pred[:,1] = np.matmul(X_test, alpha1)\n",
    "y_pred[:,2] = np.matmul(X_test, alpha2)\n",
    "y_pred[:,3] = np.matmul(X_test, alpha3)\n",
    "y_pred[:,4] = np.matmul(X_test, alpha4)\n",
    "y_pred[:,5] = np.matmul(X_test, alpha5)\n",
    "y_pred[:,6] = np.matmul(X_test, alpha6)\n",
    "y_pred[:,7] = np.matmul(X_test, alpha7)\n",
    "y_pred[:,8] = np.matmul(X_test, alpha8)\n",
    "y_pred[:,9] = np.matmul(X_test, alpha9)\n",
    "\n",
    "y_pred_final = np.argmax(y_pred, axis=1)\n",
    "\n",
    "# calculate the accuracy\n",
    "correct = 0\n",
    "for i in range(len(y_pred)):\n",
    "    if y_pred_final[i] == y_test[i]:\n",
    "        correct += 1\n",
    "print(\"Accuracy: \", correct/len(y_pred_final))\n"
   ]
  },
  {
   "cell_type": "code",
   "execution_count": null,
   "metadata": {},
   "outputs": [
    {
     "name": "stdout",
     "output_type": "stream",
     "text": [
      "Confusion Matrix: \n",
      "+----+-----+------+-----+-----+-----+-----+-----+-----+-----+-----+\n",
      "|    |   0 |    1 |   2 |   3 |   4 |   5 |   6 |   7 |   8 |   9 |\n",
      "|----+-----+------+-----+-----+-----+-----+-----+-----+-----+-----|\n",
      "|  0 | 925 |    2 |   5 |   1 |   4 |  21 |  13 |   2 |   5 |   2 |\n",
      "|  1 |   0 | 1097 |   2 |   3 |   1 |   4 |   4 |   0 |  24 |   0 |\n",
      "|  2 |  10 |   36 | 828 |  27 |  23 |   9 |  23 |  11 |  55 |  10 |\n",
      "|  3 |   9 |    6 |  20 | 877 |   4 |  40 |   6 |  12 |  25 |  11 |\n",
      "|  4 |   0 |    8 |   3 |   4 | 904 |   2 |   6 |   2 |   7 |  46 |\n",
      "|  5 |  14 |   11 |   1 |  38 |  10 | 749 |  22 |   7 |  24 |  16 |\n",
      "|  6 |  10 |   11 |   6 |  11 |  20 |  45 | 844 |   1 |   9 |   1 |\n",
      "|  7 |   4 |   28 |  22 |   8 |  17 |   2 |   1 | 859 |   7 |  80 |\n",
      "|  8 |   5 |   26 |   9 |  21 |  22 |  33 |  11 |   6 | 820 |  21 |\n",
      "|  9 |  17 |   12 |   3 |  12 |  46 |   7 |   0 |  20 |  12 | 880 |\n",
      "+----+-----+------+-----+-----+-----+-----+-----+-----+-----+-----+\n"
     ]
    }
   ],
   "source": [
    "# make the confusion matrix\n",
    "confusion_matrix = confusion_matrix(y_test, y_pred_final)\n",
    "\n",
    "# make a dataframe for confusion matrix with margin for row and column headings\n",
    "import pandas as pd\n",
    "confusion_matrix = pd.DataFrame(confusion_matrix, index = [i for i in range(10)], columns = [i for i in range(10)])\n",
    "\n",
    "\n",
    "\n",
    "print(\"Confusion Matrix: \")\n",
    "print(tabulate(confusion_matrix, headers = 'keys', tablefmt = 'psql'))"
   ]
  },
  {
   "cell_type": "markdown",
   "metadata": {},
   "source": [
    "## Question 3\n"
   ]
  },
  {
   "cell_type": "code",
   "execution_count": null,
   "metadata": {},
   "outputs": [],
   "source": [
    "p = []\n",
    "q = []\n",
    "\n",
    "for i in range(100) :\n",
    "    # populate p and q with random floating values between 10 and -10\n",
    "    p.append(random.uniform(-10, 10))\n",
    "    q.append(random.uniform(-10, 10))\n",
    "    \n",
    "# generating target variable b\n",
    "b = [1 if(p[i]*q[1]>1) else -1 for i in range(100)]\n",
    "\n",
    "p=np.array(p)\n",
    "q=np.array(q)\n",
    "b=np.array(b)"
   ]
  },
  {
   "cell_type": "code",
   "execution_count": null,
   "metadata": {},
   "outputs": [
    {
     "name": "stdout",
     "output_type": "stream",
     "text": [
      "(100, 6)\n"
     ]
    }
   ],
   "source": [
    "# generating A\n",
    "A  = [[1,p[i],q[i],p[i]*p[i],q[i]*q[i],p[i]*q[i]] for i in range(100)]\n",
    "A = np.array(A)\n",
    "print(A.shape)"
   ]
  },
  {
   "cell_type": "code",
   "execution_count": null,
   "metadata": {},
   "outputs": [
    {
     "name": "stdout",
     "output_type": "stream",
     "text": [
      "The coefficient vector x is :\n",
      "[-0.09668812 -0.14327531  0.01014153  0.00207277 -0.00053711  0.00044129]\n"
     ]
    }
   ],
   "source": [
    "# finding the coefficient vector x\n",
    "\n",
    "x = np.matmul(np.linalg.inv(np.matmul(A.T, A)), A.T)\n",
    "x = np.matmul(x, b)\n",
    "print(\"The coefficient vector x is :\")\n",
    "print(x)"
   ]
  },
  {
   "cell_type": "code",
   "execution_count": null,
   "metadata": {},
   "outputs": [
    {
     "name": "stdout",
     "output_type": "stream",
     "text": [
      "The predicted target variable b is :\n",
      "[-1, -1, -1, 1, 1, 1, 1, 1, -1, 1, 1, -1, 1, -1, -1, 1, 1, -1, -1, -1, -1, 1, 1, 1, 1, -1, -1, -1, 1, 1, -1, 1, 1, -1, -1, 1, -1, 1, 1, 1, 1, -1, 1, 1, -1, 1, -1, -1, -1, -1, 1, -1, 1, 1, -1, -1, 1, 1, -1, 1, -1, 1, 1, 1, 1, 1, 1, 1, 1, -1, -1, -1, -1, 1, -1, 1, 1, -1, 1, -1, 1, 1, -1, 1, -1, -1, 1, -1, -1, 1, 1, 1, -1, 1, -1, 1, -1, -1, -1, -1]\n",
      "The accuracy on the training set is  : 0.98\n"
     ]
    }
   ],
   "source": [
    "# predicting the target variable b\n",
    "b_pred = np.matmul(A, x)\n",
    "b_pred = [1 if(b_pred[i]>0) else -1 for i in range(100)]\n",
    "print(\"The predicted target variable b is :\")\n",
    "print(b_pred)\n",
    "\n",
    "# calculating the accuracy\n",
    "acc = 0\n",
    "for i in range(100) :\n",
    "    if(b[i]==b_pred[i]) :\n",
    "        acc+=1\n",
    "print(\"The accuracy on the training set is  : \" + str(acc/100))"
   ]
  },
  {
   "cell_type": "markdown",
   "metadata": {},
   "source": [
    "## Question 4"
   ]
  },
  {
   "cell_type": "code",
   "execution_count": null,
   "metadata": {},
   "outputs": [],
   "source": [
    "p = []\n",
    "q = []\n",
    "\n",
    "for i in range(100) :\n",
    "    # populate p \n",
    "    p.append(random.uniform(-1, 1))\n",
    "    q.append(random.uniform(-1, 1))\n",
    "    \n",
    "# generating target variable b\n",
    "b = [p[i]*p[i] + q[i]*q[i] + p[i]*q[i] for i in range(100)]\n",
    "\n",
    "p=np.array(p)\n",
    "q=np.array(q)\n",
    "b=np.array(b)"
   ]
  },
  {
   "cell_type": "code",
   "execution_count": null,
   "metadata": {},
   "outputs": [
    {
     "name": "stdout",
     "output_type": "stream",
     "text": [
      "(100, 6)\n"
     ]
    }
   ],
   "source": [
    "# generating A\n",
    "A  = [[1,p[i],q[i],p[i]*p[i],q[i]*q[i],p[i]*q[i]] for i in range(100)]\n",
    "A = np.array(A)\n",
    "print(A.shape)"
   ]
  },
  {
   "cell_type": "code",
   "execution_count": null,
   "metadata": {},
   "outputs": [
    {
     "name": "stdout",
     "output_type": "stream",
     "text": [
      "The coefficient vector x is :\n",
      "[-1.09634524e-15 -4.85722573e-17 -1.11022302e-16  1.00000000e+00\n",
      "  1.00000000e+00  1.00000000e+00]\n"
     ]
    }
   ],
   "source": [
    "# finding the coefficient vector x\n",
    "\n",
    "x = np.matmul(np.linalg.inv(np.matmul(A.T, A)), A.T)\n",
    "x = np.matmul(x, b)\n",
    "print(\"The coefficient vector x is :\")\n",
    "print(x)"
   ]
  },
  {
   "cell_type": "code",
   "execution_count": null,
   "metadata": {},
   "outputs": [
    {
     "name": "stdout",
     "output_type": "stream",
     "text": [
      "The mean squared error is : 5.0547138800161026e-31\n"
     ]
    }
   ],
   "source": [
    "# find the mean squared error\n",
    "b_pred = np.matmul(A, x)\n",
    "mse = 0\n",
    "for i in range(100) :\n",
    "    mse += (b[i]-b_pred[i])**2\n",
    "mse/=100\n",
    "print(\"The mean squared error is : \" + str(mse))"
   ]
  },
  {
   "cell_type": "code",
   "execution_count": null,
   "metadata": {},
   "outputs": [],
   "source": []
  },
  {
   "cell_type": "markdown",
   "metadata": {},
   "source": [
    "## Question 5\n"
   ]
  },
  {
   "cell_type": "code",
   "execution_count": null,
   "metadata": {},
   "outputs": [],
   "source": [
    "# Q5(a)\n",
    "p = []\n",
    "\n",
    "for i in range(100) :\n",
    "    # populate p \n",
    "    p.append(random.uniform(0, 1))\n",
    "    \n",
    "# generating target variable b\n",
    "b = [7*p[i]-3*p[i]*p[i] for i in range(100)]\n",
    "\n",
    "p=np.array(p)\n",
    "b=np.array(b)"
   ]
  },
  {
   "cell_type": "code",
   "execution_count": null,
   "metadata": {},
   "outputs": [],
   "source": [
    "def f(x,j,n) :\n",
    "    return ((x>=(j-1)/n) & (x<(2*j-1)/n))*(2*n*(x-(j-1)/n)) + ((x>=(2*j-1)/n) & (x<j/n))*(2*n*((j/n)-x))"
   ]
  },
  {
   "cell_type": "code",
   "execution_count": null,
   "metadata": {},
   "outputs": [
    {
     "name": "stdout",
     "output_type": "stream",
     "text": [
      "(100, 10)\n"
     ]
    }
   ],
   "source": [
    "# generating A for N=10\n",
    "\n",
    "A = [[f(p[i],j,10) for j in range(1,11)] for i in range(100)]\n",
    "A = np.array(A)\n",
    "print(A.shape)"
   ]
  },
  {
   "cell_type": "code",
   "execution_count": null,
   "metadata": {},
   "outputs": [
    {
     "name": "stdout",
     "output_type": "stream",
     "text": [
      "x is :\n",
      "[ 0.33868924  0.46518533  0.4366132   0.18345353  0.03462305  1.18496682\n",
      " -1.14393645  0.54117221 -0.58459773  0.31810208]\n",
      "The mean squared error is : 0.22071238854364006\n"
     ]
    }
   ],
   "source": [
    "inverse = np.linalg.inv(np.matmul(A.T, A))\n",
    "x = np.matmul(inverse, A.T)\n",
    "x = np.matmul(x, b)\n",
    "print(\"x is :\")\n",
    "print(x)\n",
    "\n",
    "# obtaining the mean squared error\n",
    "b_pred = np.matmul(A, x)\n",
    "mse = 0\n",
    "for i in range(100) :\n",
    "    mse += (b[i]-b_pred[i])**2\n",
    "\n",
    "mse/=100\n",
    "print(\"The mean squared error is : \" + str(mse))"
   ]
  },
  {
   "cell_type": "code",
   "execution_count": null,
   "metadata": {},
   "outputs": [
    {
     "name": "stdout",
     "output_type": "stream",
     "text": [
      "(100, 50)\n"
     ]
    }
   ],
   "source": [
    "# generating A for N=50 \n",
    "A = [[f(p[i],j,50) for j in range(1,51)] for i in range(100)]\n",
    "A = np.array(A)\n",
    "print(A.shape)"
   ]
  },
  {
   "cell_type": "code",
   "execution_count": null,
   "metadata": {},
   "outputs": [
    {
     "name": "stdout",
     "output_type": "stream",
     "text": [
      "x is :\n",
      "[ 6.95253575e-02  7.51654320e-02  1.04492125e-01  2.27642308e-02\n",
      "  9.38481413e-02  3.20450910e-02  3.08094902e-02  1.07242910e-01\n",
      "  1.10332943e-04 -3.68036837e-05  2.40833037e-04  2.90356150e-04\n",
      " -3.69371639e-04  3.19868100e-01 -1.67506512e-05  8.99115303e-03\n",
      " -2.81547549e-01 -5.39260747e-06 -1.87868783e-05 -1.54914300e-04\n",
      " -2.72406468e-05 -1.79818620e-03 -4.53002631e-05 -1.22309957e-04\n",
      " -8.22509498e-03 -2.54458660e-03  4.48502951e+00 -4.16258821e+00\n",
      " -1.07689408e-03 -1.63096170e-03 -5.15919714e-04  1.59685899e-01\n",
      " -4.94833196e+00  4.51216648e+00 -1.32911607e-03 -7.56884991e-04\n",
      " -2.28143854e-03  5.63102291e-04 -5.58436564e-03  1.96527478e-03\n",
      " -2.65836125e-03  8.54145062e-03 -3.14088545e-02 -8.47111305e-03\n",
      "  2.85143609e-02 -5.13218654e-03  5.94424311e-04 -1.89223406e-02\n",
      "  3.36076567e-02 -4.95819088e-01]\n",
      "The mean squared error is : 0.003542393061104981\n"
     ]
    }
   ],
   "source": [
    "inverse = np.linalg.inv(np.matmul(A.T, A))\n",
    "x = np.matmul(inverse, A.T)\n",
    "x = np.matmul(x, b)\n",
    "print(\"x is :\")\n",
    "print(x)\n",
    "\n",
    "# obtaining the mean squared error\n",
    "b_pred = np.matmul(A, x)\n",
    "mse = 0\n",
    "for i in range(100) :\n",
    "    mse += (b[i]-b_pred[i])**2\n",
    "\n",
    "mse/=100\n",
    "print(\"The mean squared error is : \" + str(mse))"
   ]
  },
  {
   "cell_type": "code",
   "execution_count": null,
   "metadata": {},
   "outputs": [],
   "source": []
  }
 ],
 "metadata": {
  "kernelspec": {
   "display_name": "env",
   "language": "python",
   "name": "python3"
  },
  "language_info": {
   "codemirror_mode": {
    "name": "ipython",
    "version": 3
   },
   "file_extension": ".py",
   "mimetype": "text/x-python",
   "name": "python",
   "nbconvert_exporter": "python",
   "pygments_lexer": "ipython3",
   "version": "3.9.18"
  },
  "orig_nbformat": 4
 },
 "nbformat": 4,
 "nbformat_minor": 2
}
